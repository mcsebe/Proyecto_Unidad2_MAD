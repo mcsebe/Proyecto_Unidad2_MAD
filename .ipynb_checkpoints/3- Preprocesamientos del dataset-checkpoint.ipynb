{
 "cells": [
  {
   "cell_type": "code",
   "execution_count": 1,
   "id": "3b5a1188-77f8-42ae-8684-4959b743d91a",
   "metadata": {},
   "outputs": [],
   "source": [
    "import pandas as pd"
   ]
  },
  {
   "cell_type": "code",
   "execution_count": 2,
   "id": "1abd324d-64a4-4dc5-a91d-4d5d7c0eb94a",
   "metadata": {},
   "outputs": [],
   "source": [
    "df = pd.read_csv('../dataset_chile_latercera_2023.csv')"
   ]
  },
  {
   "cell_type": "code",
   "execution_count": 3,
   "id": "aea49115-83bc-414e-a889-2abe5b355682",
   "metadata": {},
   "outputs": [
    {
     "data": {
      "text/html": [
       "<div>\n",
       "<style scoped>\n",
       "    .dataframe tbody tr th:only-of-type {\n",
       "        vertical-align: middle;\n",
       "    }\n",
       "\n",
       "    .dataframe tbody tr th {\n",
       "        vertical-align: top;\n",
       "    }\n",
       "\n",
       "    .dataframe thead th {\n",
       "        text-align: right;\n",
       "    }\n",
       "</style>\n",
       "<table border=\"1\" class=\"dataframe\">\n",
       "  <thead>\n",
       "    <tr style=\"text-align: right;\">\n",
       "      <th></th>\n",
       "      <th>date</th>\n",
       "      <th>media_outlet</th>\n",
       "      <th>country</th>\n",
       "      <th>title</th>\n",
       "      <th>text</th>\n",
       "      <th>url</th>\n",
       "    </tr>\n",
       "  </thead>\n",
       "  <tbody>\n",
       "    <tr>\n",
       "      <th>0</th>\n",
       "      <td>Jan 1, 2023 @ 21:00:00.000</td>\n",
       "      <td>latercera</td>\n",
       "      <td>chile</td>\n",
       "      <td>Seis incendios se mantienen en combate en la r...</td>\n",
       "      <td>Con alerta roja se mantiene la comuna de Lumac...</td>\n",
       "      <td>https://www.latercera.com/nacional/noticia/sei...</td>\n",
       "    </tr>\n",
       "    <tr>\n",
       "      <th>1</th>\n",
       "      <td>Jan 1, 2023 @ 21:00:00.000</td>\n",
       "      <td>latercera</td>\n",
       "      <td>chile</td>\n",
       "      <td>Cadem: Presidente Boric cierra el 2022 con un ...</td>\n",
       "      <td>Este domingo se conocieron los resultados que ...</td>\n",
       "      <td>https://www.latercera.com/nacional/noticia/cad...</td>\n",
       "    </tr>\n",
       "    <tr>\n",
       "      <th>2</th>\n",
       "      <td>Jan 1, 2023 @ 21:00:00.000</td>\n",
       "      <td>latercera</td>\n",
       "      <td>chile</td>\n",
       "      <td>Ministra Ana Lya Uriarte da positivo a Covid-19</td>\n",
       "      <td>Fue por medio de su cuenta en Twitter que la t...</td>\n",
       "      <td>https://www.latercera.com/nacional/noticia/min...</td>\n",
       "    </tr>\n",
       "    <tr>\n",
       "      <th>3</th>\n",
       "      <td>Jan 1, 2023 @ 21:00:00.000</td>\n",
       "      <td>latercera</td>\n",
       "      <td>chile</td>\n",
       "      <td>Senapred declara alerta roja comunal para San ...</td>\n",
       "      <td>Durante esta tarde, la delegación presidencial...</td>\n",
       "      <td>https://www.latercera.com/nacional/noticia/sen...</td>\n",
       "    </tr>\n",
       "    <tr>\n",
       "      <th>4</th>\n",
       "      <td>Jan 1, 2023 @ 21:00:00.000</td>\n",
       "      <td>latercera</td>\n",
       "      <td>chile</td>\n",
       "      <td>Declaran alerta roja en Tomé por incendio fore...</td>\n",
       "      <td>Este domingo, el Servicio Nacional de Prevenci...</td>\n",
       "      <td>https://www.latercera.com/nacional/noticia/dec...</td>\n",
       "    </tr>\n",
       "    <tr>\n",
       "      <th>...</th>\n",
       "      <td>...</td>\n",
       "      <td>...</td>\n",
       "      <td>...</td>\n",
       "      <td>...</td>\n",
       "      <td>...</td>\n",
       "      <td>...</td>\n",
       "    </tr>\n",
       "    <tr>\n",
       "      <th>26984</th>\n",
       "      <td>Dec 31, 2023 @ 21:00:00.000</td>\n",
       "      <td>latercera</td>\n",
       "      <td>chile</td>\n",
       "      <td>Jaime Gajardo, subsecretario de Justicia: “El ...</td>\n",
       "      <td>Durante 2023, la Subsecretaría de Justicia tra...</td>\n",
       "      <td>https://www.latercera.com/nacional/noticia/jai...</td>\n",
       "    </tr>\n",
       "    <tr>\n",
       "      <th>26985</th>\n",
       "      <td>Dec 31, 2023 @ 21:00:00.000</td>\n",
       "      <td>latercera</td>\n",
       "      <td>chile</td>\n",
       "      <td>Crisis de seguridad marca primer caldillo de c...</td>\n",
       "      <td>A las 11.00 horas del lunes 1 de enero, los di...</td>\n",
       "      <td>https://www.latercera.com/politica/noticia/cri...</td>\n",
       "    </tr>\n",
       "    <tr>\n",
       "      <th>26986</th>\n",
       "      <td>Dec 31, 2023 @ 21:00:00.000</td>\n",
       "      <td>latercera</td>\n",
       "      <td>chile</td>\n",
       "      <td>Muere hombre en la Región del Maule: Su padre ...</td>\n",
       "      <td>Este lunes se registró la muerte de un hombre ...</td>\n",
       "      <td>https://www.latercera.com/nacional/noticia/mue...</td>\n",
       "    </tr>\n",
       "    <tr>\n",
       "      <th>26987</th>\n",
       "      <td>Dec 31, 2023 @ 21:00:00.000</td>\n",
       "      <td>latercera</td>\n",
       "      <td>chile</td>\n",
       "      <td>Centro Sismológico explica porqué se descartó ...</td>\n",
       "      <td>Este lunes un terremoto de magnitud 7.5 sacudi...</td>\n",
       "      <td>https://www.latercera.com/nacional/noticia/cen...</td>\n",
       "    </tr>\n",
       "    <tr>\n",
       "      <th>26988</th>\n",
       "      <td>Dec 31, 2023 @ 21:00:00.000</td>\n",
       "      <td>latercera</td>\n",
       "      <td>chile</td>\n",
       "      <td>¿Cuándo es el próximo feriado de 2024?</td>\n",
       "      <td>Comenzó el año 2024 con el feriado irrenunciab...</td>\n",
       "      <td>https://www.latercera.com/nacional/noticia/cua...</td>\n",
       "    </tr>\n",
       "  </tbody>\n",
       "</table>\n",
       "<p>26989 rows × 6 columns</p>\n",
       "</div>"
      ],
      "text/plain": [
       "                              date media_outlet country  \\\n",
       "0       Jan 1, 2023 @ 21:00:00.000    latercera   chile   \n",
       "1       Jan 1, 2023 @ 21:00:00.000    latercera   chile   \n",
       "2       Jan 1, 2023 @ 21:00:00.000    latercera   chile   \n",
       "3       Jan 1, 2023 @ 21:00:00.000    latercera   chile   \n",
       "4       Jan 1, 2023 @ 21:00:00.000    latercera   chile   \n",
       "...                            ...          ...     ...   \n",
       "26984  Dec 31, 2023 @ 21:00:00.000    latercera   chile   \n",
       "26985  Dec 31, 2023 @ 21:00:00.000    latercera   chile   \n",
       "26986  Dec 31, 2023 @ 21:00:00.000    latercera   chile   \n",
       "26987  Dec 31, 2023 @ 21:00:00.000    latercera   chile   \n",
       "26988  Dec 31, 2023 @ 21:00:00.000    latercera   chile   \n",
       "\n",
       "                                                   title  \\\n",
       "0      Seis incendios se mantienen en combate en la r...   \n",
       "1      Cadem: Presidente Boric cierra el 2022 con un ...   \n",
       "2        Ministra Ana Lya Uriarte da positivo a Covid-19   \n",
       "3      Senapred declara alerta roja comunal para San ...   \n",
       "4      Declaran alerta roja en Tomé por incendio fore...   \n",
       "...                                                  ...   \n",
       "26984  Jaime Gajardo, subsecretario de Justicia: “El ...   \n",
       "26985  Crisis de seguridad marca primer caldillo de c...   \n",
       "26986  Muere hombre en la Región del Maule: Su padre ...   \n",
       "26987  Centro Sismológico explica porqué se descartó ...   \n",
       "26988             ¿Cuándo es el próximo feriado de 2024?   \n",
       "\n",
       "                                                    text  \\\n",
       "0      Con alerta roja se mantiene la comuna de Lumac...   \n",
       "1      Este domingo se conocieron los resultados que ...   \n",
       "2      Fue por medio de su cuenta en Twitter que la t...   \n",
       "3      Durante esta tarde, la delegación presidencial...   \n",
       "4      Este domingo, el Servicio Nacional de Prevenci...   \n",
       "...                                                  ...   \n",
       "26984  Durante 2023, la Subsecretaría de Justicia tra...   \n",
       "26985  A las 11.00 horas del lunes 1 de enero, los di...   \n",
       "26986  Este lunes se registró la muerte de un hombre ...   \n",
       "26987  Este lunes un terremoto de magnitud 7.5 sacudi...   \n",
       "26988  Comenzó el año 2024 con el feriado irrenunciab...   \n",
       "\n",
       "                                                     url  \n",
       "0      https://www.latercera.com/nacional/noticia/sei...  \n",
       "1      https://www.latercera.com/nacional/noticia/cad...  \n",
       "2      https://www.latercera.com/nacional/noticia/min...  \n",
       "3      https://www.latercera.com/nacional/noticia/sen...  \n",
       "4      https://www.latercera.com/nacional/noticia/dec...  \n",
       "...                                                  ...  \n",
       "26984  https://www.latercera.com/nacional/noticia/jai...  \n",
       "26985  https://www.latercera.com/politica/noticia/cri...  \n",
       "26986  https://www.latercera.com/nacional/noticia/mue...  \n",
       "26987  https://www.latercera.com/nacional/noticia/cen...  \n",
       "26988  https://www.latercera.com/nacional/noticia/cua...  \n",
       "\n",
       "[26989 rows x 6 columns]"
      ]
     },
     "execution_count": 3,
     "metadata": {},
     "output_type": "execute_result"
    }
   ],
   "source": [
    "df"
   ]
  },
  {
   "cell_type": "code",
   "execution_count": 4,
   "id": "8dd08af5-2876-4e41-81ae-10a867c3285e",
   "metadata": {},
   "outputs": [
    {
     "data": {
      "text/html": [
       "<div>\n",
       "<style scoped>\n",
       "    .dataframe tbody tr th:only-of-type {\n",
       "        vertical-align: middle;\n",
       "    }\n",
       "\n",
       "    .dataframe tbody tr th {\n",
       "        vertical-align: top;\n",
       "    }\n",
       "\n",
       "    .dataframe thead th {\n",
       "        text-align: right;\n",
       "    }\n",
       "</style>\n",
       "<table border=\"1\" class=\"dataframe\">\n",
       "  <thead>\n",
       "    <tr style=\"text-align: right;\">\n",
       "      <th></th>\n",
       "      <th>date</th>\n",
       "      <th>media_outlet</th>\n",
       "      <th>country</th>\n",
       "      <th>title</th>\n",
       "      <th>text</th>\n",
       "      <th>url</th>\n",
       "    </tr>\n",
       "  </thead>\n",
       "  <tbody>\n",
       "    <tr>\n",
       "      <th>0</th>\n",
       "      <td>2023-01-01</td>\n",
       "      <td>latercera</td>\n",
       "      <td>chile</td>\n",
       "      <td>Seis incendios se mantienen en combate en la r...</td>\n",
       "      <td>Con alerta roja se mantiene la comuna de Lumac...</td>\n",
       "      <td>https://www.latercera.com/nacional/noticia/sei...</td>\n",
       "    </tr>\n",
       "    <tr>\n",
       "      <th>1</th>\n",
       "      <td>2023-01-01</td>\n",
       "      <td>latercera</td>\n",
       "      <td>chile</td>\n",
       "      <td>Cadem: Presidente Boric cierra el 2022 con un ...</td>\n",
       "      <td>Este domingo se conocieron los resultados que ...</td>\n",
       "      <td>https://www.latercera.com/nacional/noticia/cad...</td>\n",
       "    </tr>\n",
       "    <tr>\n",
       "      <th>2</th>\n",
       "      <td>2023-01-01</td>\n",
       "      <td>latercera</td>\n",
       "      <td>chile</td>\n",
       "      <td>Ministra Ana Lya Uriarte da positivo a Covid-19</td>\n",
       "      <td>Fue por medio de su cuenta en Twitter que la t...</td>\n",
       "      <td>https://www.latercera.com/nacional/noticia/min...</td>\n",
       "    </tr>\n",
       "    <tr>\n",
       "      <th>3</th>\n",
       "      <td>2023-01-01</td>\n",
       "      <td>latercera</td>\n",
       "      <td>chile</td>\n",
       "      <td>Senapred declara alerta roja comunal para San ...</td>\n",
       "      <td>Durante esta tarde, la delegación presidencial...</td>\n",
       "      <td>https://www.latercera.com/nacional/noticia/sen...</td>\n",
       "    </tr>\n",
       "    <tr>\n",
       "      <th>4</th>\n",
       "      <td>2023-01-01</td>\n",
       "      <td>latercera</td>\n",
       "      <td>chile</td>\n",
       "      <td>Declaran alerta roja en Tomé por incendio fore...</td>\n",
       "      <td>Este domingo, el Servicio Nacional de Prevenci...</td>\n",
       "      <td>https://www.latercera.com/nacional/noticia/dec...</td>\n",
       "    </tr>\n",
       "    <tr>\n",
       "      <th>...</th>\n",
       "      <td>...</td>\n",
       "      <td>...</td>\n",
       "      <td>...</td>\n",
       "      <td>...</td>\n",
       "      <td>...</td>\n",
       "      <td>...</td>\n",
       "    </tr>\n",
       "    <tr>\n",
       "      <th>26984</th>\n",
       "      <td>2023-12-31</td>\n",
       "      <td>latercera</td>\n",
       "      <td>chile</td>\n",
       "      <td>Jaime Gajardo, subsecretario de Justicia: “El ...</td>\n",
       "      <td>Durante 2023, la Subsecretaría de Justicia tra...</td>\n",
       "      <td>https://www.latercera.com/nacional/noticia/jai...</td>\n",
       "    </tr>\n",
       "    <tr>\n",
       "      <th>26985</th>\n",
       "      <td>2023-12-31</td>\n",
       "      <td>latercera</td>\n",
       "      <td>chile</td>\n",
       "      <td>Crisis de seguridad marca primer caldillo de c...</td>\n",
       "      <td>A las 11.00 horas del lunes 1 de enero, los di...</td>\n",
       "      <td>https://www.latercera.com/politica/noticia/cri...</td>\n",
       "    </tr>\n",
       "    <tr>\n",
       "      <th>26986</th>\n",
       "      <td>2023-12-31</td>\n",
       "      <td>latercera</td>\n",
       "      <td>chile</td>\n",
       "      <td>Muere hombre en la Región del Maule: Su padre ...</td>\n",
       "      <td>Este lunes se registró la muerte de un hombre ...</td>\n",
       "      <td>https://www.latercera.com/nacional/noticia/mue...</td>\n",
       "    </tr>\n",
       "    <tr>\n",
       "      <th>26987</th>\n",
       "      <td>2023-12-31</td>\n",
       "      <td>latercera</td>\n",
       "      <td>chile</td>\n",
       "      <td>Centro Sismológico explica porqué se descartó ...</td>\n",
       "      <td>Este lunes un terremoto de magnitud 7.5 sacudi...</td>\n",
       "      <td>https://www.latercera.com/nacional/noticia/cen...</td>\n",
       "    </tr>\n",
       "    <tr>\n",
       "      <th>26988</th>\n",
       "      <td>2023-12-31</td>\n",
       "      <td>latercera</td>\n",
       "      <td>chile</td>\n",
       "      <td>¿Cuándo es el próximo feriado de 2024?</td>\n",
       "      <td>Comenzó el año 2024 con el feriado irrenunciab...</td>\n",
       "      <td>https://www.latercera.com/nacional/noticia/cua...</td>\n",
       "    </tr>\n",
       "  </tbody>\n",
       "</table>\n",
       "<p>26989 rows × 6 columns</p>\n",
       "</div>"
      ],
      "text/plain": [
       "             date media_outlet country  \\\n",
       "0      2023-01-01    latercera   chile   \n",
       "1      2023-01-01    latercera   chile   \n",
       "2      2023-01-01    latercera   chile   \n",
       "3      2023-01-01    latercera   chile   \n",
       "4      2023-01-01    latercera   chile   \n",
       "...           ...          ...     ...   \n",
       "26984  2023-12-31    latercera   chile   \n",
       "26985  2023-12-31    latercera   chile   \n",
       "26986  2023-12-31    latercera   chile   \n",
       "26987  2023-12-31    latercera   chile   \n",
       "26988  2023-12-31    latercera   chile   \n",
       "\n",
       "                                                   title  \\\n",
       "0      Seis incendios se mantienen en combate en la r...   \n",
       "1      Cadem: Presidente Boric cierra el 2022 con un ...   \n",
       "2        Ministra Ana Lya Uriarte da positivo a Covid-19   \n",
       "3      Senapred declara alerta roja comunal para San ...   \n",
       "4      Declaran alerta roja en Tomé por incendio fore...   \n",
       "...                                                  ...   \n",
       "26984  Jaime Gajardo, subsecretario de Justicia: “El ...   \n",
       "26985  Crisis de seguridad marca primer caldillo de c...   \n",
       "26986  Muere hombre en la Región del Maule: Su padre ...   \n",
       "26987  Centro Sismológico explica porqué se descartó ...   \n",
       "26988             ¿Cuándo es el próximo feriado de 2024?   \n",
       "\n",
       "                                                    text  \\\n",
       "0      Con alerta roja se mantiene la comuna de Lumac...   \n",
       "1      Este domingo se conocieron los resultados que ...   \n",
       "2      Fue por medio de su cuenta en Twitter que la t...   \n",
       "3      Durante esta tarde, la delegación presidencial...   \n",
       "4      Este domingo, el Servicio Nacional de Prevenci...   \n",
       "...                                                  ...   \n",
       "26984  Durante 2023, la Subsecretaría de Justicia tra...   \n",
       "26985  A las 11.00 horas del lunes 1 de enero, los di...   \n",
       "26986  Este lunes se registró la muerte de un hombre ...   \n",
       "26987  Este lunes un terremoto de magnitud 7.5 sacudi...   \n",
       "26988  Comenzó el año 2024 con el feriado irrenunciab...   \n",
       "\n",
       "                                                     url  \n",
       "0      https://www.latercera.com/nacional/noticia/sei...  \n",
       "1      https://www.latercera.com/nacional/noticia/cad...  \n",
       "2      https://www.latercera.com/nacional/noticia/min...  \n",
       "3      https://www.latercera.com/nacional/noticia/sen...  \n",
       "4      https://www.latercera.com/nacional/noticia/dec...  \n",
       "...                                                  ...  \n",
       "26984  https://www.latercera.com/nacional/noticia/jai...  \n",
       "26985  https://www.latercera.com/politica/noticia/cri...  \n",
       "26986  https://www.latercera.com/nacional/noticia/mue...  \n",
       "26987  https://www.latercera.com/nacional/noticia/cen...  \n",
       "26988  https://www.latercera.com/nacional/noticia/cua...  \n",
       "\n",
       "[26989 rows x 6 columns]"
      ]
     },
     "execution_count": 4,
     "metadata": {},
     "output_type": "execute_result"
    }
   ],
   "source": [
    "# Convertir la columna 'date' al tipo datetime\n",
    "df['date'] = pd.to_datetime(df['date'], format='%b %d, %Y @ %H:%M:%S.%f')\n",
    "# Formatear la columna 'date' al formato YYYY-MM-DD\n",
    "df['date'] = df['date'].dt.strftime('%Y-%m-%d')\n",
    "\n",
    "df"
   ]
  },
  {
   "cell_type": "code",
   "execution_count": 5,
   "id": "6555d64a-b997-4e19-b0f4-b78fb5997d0e",
   "metadata": {},
   "outputs": [],
   "source": [
    "import matplotlib.pyplot as plt"
   ]
  },
  {
   "cell_type": "code",
   "execution_count": 6,
   "id": "ba032854-925e-47a8-8cb1-decbaa07685b",
   "metadata": {},
   "outputs": [
    {
     "data": {
      "image/png": "[encoded data removed]",
      "text/plain": [
       "<Figure size 720x432 with 1 Axes>"
      ]
     },
     "metadata": {
      "needs_background": "light"
     },
     "output_type": "display_data"
    }
   ],
   "source": [
    "df['date'] = pd.to_datetime(df['date'])\n",
    "\n",
    "# Crear una nueva columna para el mes y el año\n",
    "df['month_year'] = df['date'].dt.to_period('M')\n",
    "\n",
    "# Contar la cantidad de datos por mes\n",
    "month_counts = df['month_year'].value_counts().sort_index()\n",
    "\n",
    "#Crear el histograma\n",
    "plt.figure(figsize=(10, 6))\n",
    "month_counts.plot(kind='bar')\n",
    "plt.xlabel('Mes')\n",
    "plt.ylabel('Cantidad de datos')\n",
    "plt.title('Cantidad de datos por mes')\n",
    "plt.xticks(rotation=45, fontsize=10)  # Ajustar el tamaño de las etiquetas del eje x\n",
    "plt.tight_layout()  # Ajustar el layout para que las etiquetas no se corten\n",
    "plt.show()"
   ]
  },
  {
   "cell_type": "markdown",
   "id": "68e2ded0-966a-4f7b-976e-65da4dfe5e30",
   "metadata": {},
   "source": [
    "- Muestra aleatoria del dataset"
   ]
  },
  {
   "cell_type": "code",
   "execution_count": 7,
   "id": "9e4a2ccf-3d94-485c-bfb3-65faba25e9db",
   "metadata": {},
   "outputs": [],
   "source": [
    "df_muestra = df.sample(n=100, random_state=42)"
   ]
  },
  {
   "cell_type": "markdown",
   "id": "c55a98cb-b551-4b7b-ab2a-3eccc5c64549",
   "metadata": {},
   "source": [
    "- ¿Quienes son las personas mencionadas en la prensa?"
   ]
  },
  {
   "cell_type": "code",
   "execution_count": 18,
   "id": "4598bc10-4cea-4627-830f-46e867822e90",
   "metadata": {},
   "outputs": [
    {
     "name": "stderr",
     "output_type": "stream",
     "text": [
      "C:\\Users\\gluar\\anaconda3\\lib\\site-packages\\spacy\\util.py:910: UserWarning: [W095] Model 'es_core_news_sm' (3.6.0) was trained with spaCy v3.6.0 and may not be 100% compatible with the current version (3.7.0). If you see errors or degraded performance, download a newer compatible model or retrain your custom model with the current spaCy version. For more details and available updates, run: python -m spacy validate\n",
      "  warnings.warn(warn_msg)\n"
     ]
    }
   ],
   "source": [
    "import spacy\n",
    "\n",
    "# Cargar el modelo de Spacy para el idioma que necesites (por ejemplo, español)\n",
    "nlp = spacy.load(\"es_core_news_sm\")"
   ]
  },
  {
   "cell_type": "code",
   "execution_count": 19,
   "id": "3d1384bd-dbbc-4430-836b-2a545af398f0",
   "metadata": {},
   "outputs": [],
   "source": [
    "# Función para extraer entidades de tipo persona de un texto usando Spacy\n",
    "def extract_person_entities(text):\n",
    "    doc = nlp(text)\n",
    "    return [ent.text for ent in doc.ents if ent.label_ == \"PER\" and len(ent.text.split()) >= 2]\n"
   ]
  },
  {
   "cell_type": "code",
   "execution_count": 20,
   "id": "54ed5b92-1d51-4d5f-9844-6a91cbdd753e",
   "metadata": {},
   "outputs": [],
   "source": [
    "# Aplicar la función a cada fila de la columna \"text\" y guardar los resultados en una nueva columna\n",
    "df_muestra[\"person_entities\"] = df_muestra[\"text\"].apply(extract_person_entities)"
   ]
  },
  {
   "cell_type": "code",
   "execution_count": 21,
   "id": "8502e98d-a0f3-43fb-9398-6813364bc0c8",
   "metadata": {},
   "outputs": [
    {
     "name": "stderr",
     "output_type": "stream",
     "text": [
      "100%|████████████████████████████████████████████████████████████████████████████████| 100/100 [00:05<00:00, 16.82it/s]\n"
     ]
    }
   ],
   "source": [
    "from tqdm import tqdm\n",
    "\n",
    "# Aplicar la función a cada fila de la columna \"text\" y guardar los resultados en una nueva columna\n",
    "tqdm.pandas()\n",
    "df_muestra[\"person_entities\"] = df_muestra[\"text\"].progress_apply(extract_person_entities)"
   ]
  },
  {
   "cell_type": "code",
   "execution_count": 22,
   "id": "230acd6d-3539-400a-b2cd-35ec43e2ca9a",
   "metadata": {},
   "outputs": [
    {
     "data": {
      "text/html": [
       "<div>\n",
       "<style scoped>\n",
       "    .dataframe tbody tr th:only-of-type {\n",
       "        vertical-align: middle;\n",
       "    }\n",
       "\n",
       "    .dataframe tbody tr th {\n",
       "        vertical-align: top;\n",
       "    }\n",
       "\n",
       "    .dataframe thead th {\n",
       "        text-align: right;\n",
       "    }\n",
       "</style>\n",
       "<table border=\"1\" class=\"dataframe\">\n",
       "  <thead>\n",
       "    <tr style=\"text-align: right;\">\n",
       "      <th></th>\n",
       "      <th>date</th>\n",
       "      <th>media_outlet</th>\n",
       "      <th>country</th>\n",
       "      <th>title</th>\n",
       "      <th>text</th>\n",
       "      <th>url</th>\n",
       "      <th>month_year</th>\n",
       "      <th>person_entities</th>\n",
       "    </tr>\n",
       "  </thead>\n",
       "  <tbody>\n",
       "    <tr>\n",
       "      <th>21435</th>\n",
       "      <td>2023-10-18</td>\n",
       "      <td>latercera</td>\n",
       "      <td>chile</td>\n",
       "      <td>Hellboy Web of Wyrd presenta su tráiler de lan...</td>\n",
       "      <td>DUrante la jornada de este jueves es que fue d...</td>\n",
       "      <td>https://www.latercera.com/mouse/hellboy-web-of...</td>\n",
       "      <td>2023-10</td>\n",
       "      <td>[Mike Mignola, Mike Mignola, Mike Mignola]</td>\n",
       "    </tr>\n",
       "    <tr>\n",
       "      <th>15825</th>\n",
       "      <td>2023-08-05</td>\n",
       "      <td>latercera</td>\n",
       "      <td>chile</td>\n",
       "      <td>Bus RED se incendia en pleno viaje en San Migu...</td>\n",
       "      <td>Un bus del sistema RED resultó quemado la noch...</td>\n",
       "      <td>https://www.latercera.com/nacional/noticia/bus...</td>\n",
       "      <td>2023-08</td>\n",
       "      <td>[Crimen Organizado de la Fiscalía Metropolitan...</td>\n",
       "    </tr>\n",
       "    <tr>\n",
       "      <th>8449</th>\n",
       "      <td>2023-04-26</td>\n",
       "      <td>latercera</td>\n",
       "      <td>chile</td>\n",
       "      <td>Saw X se presenta de cara a su estreno en cine...</td>\n",
       "      <td>El estudio Lionsgate promete mantener a los fa...</td>\n",
       "      <td>https://www.latercera.com/mouse/saw-x-se-prese...</td>\n",
       "      <td>2023-04</td>\n",
       "      <td>[Tobin Bell, Shawnee Smith, Amanda Young, Tobi...</td>\n",
       "    </tr>\n",
       "    <tr>\n",
       "      <th>3200</th>\n",
       "      <td>2023-02-09</td>\n",
       "      <td>latercera</td>\n",
       "      <td>chile</td>\n",
       "      <td>Justicia de EE.UU. cita a exvicepresidente Mik...</td>\n",
       "      <td>El Departamento de Justicia de Estados Unidos ...</td>\n",
       "      <td>https://www.latercera.com/mundo/noticia/justic...</td>\n",
       "      <td>2023-02</td>\n",
       "      <td>[Mike Pence, Donald Trump, Jack Smith, Donald ...</td>\n",
       "    </tr>\n",
       "    <tr>\n",
       "      <th>23260</th>\n",
       "      <td>2023-11-14</td>\n",
       "      <td>latercera</td>\n",
       "      <td>chile</td>\n",
       "      <td>Biden y Netanyahu hablan sobre sus esfuerzos p...</td>\n",
       "      <td>El presidente de Estados Unidos, Joe Biden, y ...</td>\n",
       "      <td>https://www.latercera.com/mundo/noticia/biden-...</td>\n",
       "      <td>2023-11</td>\n",
       "      <td>[Joe Biden, Benjamin Netanyahu]</td>\n",
       "    </tr>\n",
       "    <tr>\n",
       "      <th>...</th>\n",
       "      <td>...</td>\n",
       "      <td>...</td>\n",
       "      <td>...</td>\n",
       "      <td>...</td>\n",
       "      <td>...</td>\n",
       "      <td>...</td>\n",
       "      <td>...</td>\n",
       "      <td>...</td>\n",
       "    </tr>\n",
       "    <tr>\n",
       "      <th>10011</th>\n",
       "      <td>2023-05-19</td>\n",
       "      <td>latercera</td>\n",
       "      <td>chile</td>\n",
       "      <td>Detienen a cuarto marino por homicidio de pers...</td>\n",
       "      <td>La noche de este viernes, un cuarto miembro de...</td>\n",
       "      <td>https://www.latercera.com/nacional/noticia/det...</td>\n",
       "      <td>2023-05</td>\n",
       "      <td>[Buque Almirante Cochrane, Milton Domínguez Mo...</td>\n",
       "    </tr>\n",
       "    <tr>\n",
       "      <th>10735</th>\n",
       "      <td>2023-05-30</td>\n",
       "      <td>latercera</td>\n",
       "      <td>chile</td>\n",
       "      <td>Cómo el fenómeno El Niño y el cambio climático...</td>\n",
       "      <td>Una fuerte crisis sanitaria, con el peor brote...</td>\n",
       "      <td>https://www.latercera.com/tendencias/noticia/c...</td>\n",
       "      <td>2023-05</td>\n",
       "      <td>[La OMS, Raman Velayudhan, Jason Mackenzie]</td>\n",
       "    </tr>\n",
       "    <tr>\n",
       "      <th>323</th>\n",
       "      <td>2023-01-04</td>\n",
       "      <td>latercera</td>\n",
       "      <td>chile</td>\n",
       "      <td>El Drácula de Nicolas Cage se presenta en el p...</td>\n",
       "      <td>Finalmente tenemos el primer adelanto de uno d...</td>\n",
       "      <td>https://www.latercera.com/mouse/el-dracula-de-...</td>\n",
       "      <td>2023-01</td>\n",
       "      <td>[Nicolas Cage, Nicholas Hoult, Nicolas Cage, N...</td>\n",
       "    </tr>\n",
       "    <tr>\n",
       "      <th>7889</th>\n",
       "      <td>2023-04-16</td>\n",
       "      <td>latercera</td>\n",
       "      <td>chile</td>\n",
       "      <td>¿Se va o se queda? La inquietud de La Moneda a...</td>\n",
       "      <td>“Tengo hipersomnia (dormir demasiado) con un e...</td>\n",
       "      <td>https://www.latercera.com/la-tercera-pm/notici...</td>\n",
       "      <td>2023-04</td>\n",
       "      <td>[Ana Lya Uriarte, Paulina Vodanovic, Ana Lya, ...</td>\n",
       "    </tr>\n",
       "    <tr>\n",
       "      <th>16113</th>\n",
       "      <td>2023-08-08</td>\n",
       "      <td>latercera</td>\n",
       "      <td>chile</td>\n",
       "      <td>Justicia de Estados Unidos sentencia al peligr...</td>\n",
       "      <td>Durante años, el hombre conocido como “Otoniel...</td>\n",
       "      <td>https://www.latercera.com/mundo/noticia/justic...</td>\n",
       "      <td>2023-08</td>\n",
       "      <td>[Dairo Antonio Úsuga, Dora Irizarry, Joaquín “...</td>\n",
       "    </tr>\n",
       "  </tbody>\n",
       "</table>\n",
       "<p>100 rows × 8 columns</p>\n",
       "</div>"
      ],
      "text/plain": [
       "            date media_outlet country  \\\n",
       "21435 2023-10-18    latercera   chile   \n",
       "15825 2023-08-05    latercera   chile   \n",
       "8449  2023-04-26    latercera   chile   \n",
       "3200  2023-02-09    latercera   chile   \n",
       "23260 2023-11-14    latercera   chile   \n",
       "...          ...          ...     ...   \n",
       "10011 2023-05-19    latercera   chile   \n",
       "10735 2023-05-30    latercera   chile   \n",
       "323   2023-01-04    latercera   chile   \n",
       "7889  2023-04-16    latercera   chile   \n",
       "16113 2023-08-08    latercera   chile   \n",
       "\n",
       "                                                   title  \\\n",
       "21435  Hellboy Web of Wyrd presenta su tráiler de lan...   \n",
       "15825  Bus RED se incendia en pleno viaje en San Migu...   \n",
       "8449   Saw X se presenta de cara a su estreno en cine...   \n",
       "3200   Justicia de EE.UU. cita a exvicepresidente Mik...   \n",
       "23260  Biden y Netanyahu hablan sobre sus esfuerzos p...   \n",
       "...                                                  ...   \n",
       "10011  Detienen a cuarto marino por homicidio de pers...   \n",
       "10735  Cómo el fenómeno El Niño y el cambio climático...   \n",
       "323    El Drácula de Nicolas Cage se presenta en el p...   \n",
       "7889   ¿Se va o se queda? La inquietud de La Moneda a...   \n",
       "16113  Justicia de Estados Unidos sentencia al peligr...   \n",
       "\n",
       "                                                    text  \\\n",
       "21435  DUrante la jornada de este jueves es que fue d...   \n",
       "15825  Un bus del sistema RED resultó quemado la noch...   \n",
       "8449   El estudio Lionsgate promete mantener a los fa...   \n",
       "3200   El Departamento de Justicia de Estados Unidos ...   \n",
       "23260  El presidente de Estados Unidos, Joe Biden, y ...   \n",
       "...                                                  ...   \n",
       "10011  La noche de este viernes, un cuarto miembro de...   \n",
       "10735  Una fuerte crisis sanitaria, con el peor brote...   \n",
       "323    Finalmente tenemos el primer adelanto de uno d...   \n",
       "7889   “Tengo hipersomnia (dormir demasiado) con un e...   \n",
       "16113  Durante años, el hombre conocido como “Otoniel...   \n",
       "\n",
       "                                                     url month_year  \\\n",
       "21435  https://www.latercera.com/mouse/hellboy-web-of...    2023-10   \n",
       "15825  https://www.latercera.com/nacional/noticia/bus...    2023-08   \n",
       "8449   https://www.latercera.com/mouse/saw-x-se-prese...    2023-04   \n",
       "3200   https://www.latercera.com/mundo/noticia/justic...    2023-02   \n",
       "23260  https://www.latercera.com/mundo/noticia/biden-...    2023-11   \n",
       "...                                                  ...        ...   \n",
       "10011  https://www.latercera.com/nacional/noticia/det...    2023-05   \n",
       "10735  https://www.latercera.com/tendencias/noticia/c...    2023-05   \n",
       "323    https://www.latercera.com/mouse/el-dracula-de-...    2023-01   \n",
       "7889   https://www.latercera.com/la-tercera-pm/notici...    2023-04   \n",
       "16113  https://www.latercera.com/mundo/noticia/justic...    2023-08   \n",
       "\n",
       "                                         person_entities  \n",
       "21435         [Mike Mignola, Mike Mignola, Mike Mignola]  \n",
       "15825  [Crimen Organizado de la Fiscalía Metropolitan...  \n",
       "8449   [Tobin Bell, Shawnee Smith, Amanda Young, Tobi...  \n",
       "3200   [Mike Pence, Donald Trump, Jack Smith, Donald ...  \n",
       "23260                    [Joe Biden, Benjamin Netanyahu]  \n",
       "...                                                  ...  \n",
       "10011  [Buque Almirante Cochrane, Milton Domínguez Mo...  \n",
       "10735        [La OMS, Raman Velayudhan, Jason Mackenzie]  \n",
       "323    [Nicolas Cage, Nicholas Hoult, Nicolas Cage, N...  \n",
       "7889   [Ana Lya Uriarte, Paulina Vodanovic, Ana Lya, ...  \n",
       "16113  [Dairo Antonio Úsuga, Dora Irizarry, Joaquín “...  \n",
       "\n",
       "[100 rows x 8 columns]"
      ]
     },
     "execution_count": 22,
     "metadata": {},
     "output_type": "execute_result"
    }
   ],
   "source": [
    "df_muestra"
   ]
  },
  {
   "cell_type": "code",
   "execution_count": 23,
   "id": "bde7aa7c-4952-4909-8a66-18fab9765622",
   "metadata": {},
   "outputs": [
    {
     "data": {
      "text/plain": [
       "Gabriel Boric              12\n",
       "Joe Biden                  11\n",
       "Presidente Boric            8\n",
       "Gustavo Petro               6\n",
       "Camila Vallejo              6\n",
       "Nicolás Petro               6\n",
       "Macarena Lobos              5\n",
       "Fiestas Patrias             5\n",
       "Ana Lya Uriarte             5\n",
       "Day Vásquez                 4\n",
       "Jefe de Estado              4\n",
       "Álvaro Elizalde             4\n",
       "Benjamin Netanyahu          4\n",
       "Ana Lya                     4\n",
       "Manuel Monsalve             4\n",
       "Rosalynn Carter             4\n",
       "Jimmy Carter                4\n",
       "Sebastián Piñera            4\n",
       "Roberto Morales             3\n",
       "Marta Herrera               3\n",
       "Giorgio Jackson             3\n",
       "Hugo Rey                    3\n",
       "Sam Wilson                  3\n",
       "Noticias Caracol            3\n",
       "Mike Mignola                3\n",
       "Jorge Mateluna              3\n",
       "John Price                  3\n",
       "Revolución Democrática      3\n",
       "Green Lantern               2\n",
       "Mohamed Bazoum              2\n",
       "Vladimir Putin              2\n",
       "Mary Elizabeth Winstead     2\n",
       "Brenda Lee                  2\n",
       "Ronald Reagan               2\n",
       "Mortal Kombat               2\n",
       "Jake Sullivan               2\n",
       "Santander Lopesierra        2\n",
       "Daniel Hagari               2\n",
       "Alfonso Prada               2\n",
       "Marco Velarde               2\n",
       "Jorge Ramírez               2\n",
       "Leal Bernal                 2\n",
       "Katherine Knight            2\n",
       "Ley Naín-Retamal            2\n",
       "Abbi Jackson                2\n",
       "Juan Ignacio Latorre        2\n",
       "Paul Mescal                 2\n",
       "Eduardo Vergara             2\n",
       "Rafael Correa               2\n",
       "Juan Carlos Beltrán         2\n",
       "Name: count, dtype: int64"
      ]
     },
     "execution_count": 23,
     "metadata": {},
     "output_type": "execute_result"
    }
   ],
   "source": [
    "# Convertir la lista de personas en una sola lista para contar las ocurrencias de cada persona\n",
    "all_persons = [person for sublist in df_muestra[\"person_entities\"] for person in sublist]\n",
    "\n",
    "# Contar las ocurrencias de cada persona\n",
    "person_counts = pd.Series(all_persons).value_counts()\n",
    "\n",
    "# Mostrar las personas más mencionadas\n",
    "person_counts.head(50)"
   ]
  },
  {
   "cell_type": "markdown",
   "id": "3656ec4d-ce1c-4c98-a0ca-a899d2649794",
   "metadata": {},
   "source": [
    "- Preguntas y respuestas sobre una noticia"
   ]
  },
  {
   "cell_type": "code",
   "execution_count": 24,
   "id": "cac40097-c7bc-47ef-97db-e1d621362901",
   "metadata": {},
   "outputs": [
    {
     "data": {
      "application/vnd.jupyter.widget-view+json": {
       "model_id": "75c84e603fb3493990cfcf58a2f79cb9",
       "version_major": 2,
       "version_minor": 0
      },
      "text/plain": [
       "Downloading config.json:   0%|          | 0.00/879 [00:00<?, ?B/s]"
      ]
     },
     "metadata": {},
     "output_type": "display_data"
    },
    {
     "name": "stderr",
     "output_type": "stream",
     "text": [
      "C:\\Users\\gluar\\anaconda3\\lib\\site-packages\\huggingface_hub\\file_download.py:137: UserWarning: `huggingface_hub` cache-system uses symlinks by default to efficiently store duplicated files but your machine does not support them in C:\\Users\\gluar\\.cache\\huggingface\\hub. Caching files will still work but in a degraded version that might require more space on your disk. This warning can be disabled by setting the `HF_HUB_DISABLE_SYMLINKS_WARNING` environment variable. For more details, see https://huggingface.co/docs/huggingface_hub/how-to-cache#limitations.\n",
      "To support symlinks on Windows, you either need to activate Developer Mode or to run Python as an administrator. In order to see activate developer mode, see this article: https://docs.microsoft.com/en-us/windows/apps/get-started/enable-your-device-for-development\n",
      "  warnings.warn(message)\n"
     ]
    },
    {
     "data": {
      "application/vnd.jupyter.widget-view+json": {
       "model_id": "6af2ba3e2ba64f669a496bf13087da5c",
       "version_major": 2,
       "version_minor": 0
      },
      "text/plain": [
       "Downloading model.safetensors:   0%|          | 0.00/1.11G [00:00<?, ?B/s]"
      ]
     },
     "metadata": {},
     "output_type": "display_data"
    },
    {
     "data": {
      "application/vnd.jupyter.widget-view+json": {
       "model_id": "9db797e2c4e94c02a24bd700d7d68986",
       "version_major": 2,
       "version_minor": 0
      },
      "text/plain": [
       "Downloading tokenizer_config.json:   0%|          | 0.00/453 [00:00<?, ?B/s]"
      ]
     },
     "metadata": {},
     "output_type": "display_data"
    },
    {
     "data": {
      "application/vnd.jupyter.widget-view+json": {
       "model_id": "4d777f0dba4b4635a9c4ac4766c4b8c6",
       "version_major": 2,
       "version_minor": 0
      },
      "text/plain": [
       "Downloading tokenizer.json:   0%|          | 0.00/16.3M [00:00<?, ?B/s]"
      ]
     },
     "metadata": {},
     "output_type": "display_data"
    },
    {
     "data": {
      "application/vnd.jupyter.widget-view+json": {
       "model_id": "1ce6025611c5488184c217d43c3f75f6",
       "version_major": 2,
       "version_minor": 0
      },
      "text/plain": [
       "Downloading added_tokens.json:   0%|          | 0.00/23.0 [00:00<?, ?B/s]"
      ]
     },
     "metadata": {},
     "output_type": "display_data"
    },
    {
     "data": {
      "application/vnd.jupyter.widget-view+json": {
       "model_id": "1e72134376fd41e3afea1ca7c1b43ba3",
       "version_major": 2,
       "version_minor": 0
      },
      "text/plain": [
       "Downloading (…)cial_tokens_map.json:   0%|          | 0.00/173 [00:00<?, ?B/s]"
      ]
     },
     "metadata": {},
     "output_type": "display_data"
    },
    {
     "name": "stderr",
     "output_type": "stream",
     "text": [
      "Special tokens have been added in the vocabulary, make sure the associated word embeddings are fine-tuned or trained.\n"
     ]
    }
   ],
   "source": [
    "from transformers import pipeline\n",
    "\n",
    "qa_model = pipeline(\"question-answering\", \"timpal0l/mdeberta-v3-base-squad2\")\n"
   ]
  },
  {
   "cell_type": "code",
   "execution_count": 25,
   "id": "0072f670-0c80-4438-8145-9f71ec140e1d",
   "metadata": {},
   "outputs": [
    {
     "name": "stdout",
     "output_type": "stream",
     "text": [
      "Este domingo, el Servicio Nacional de Prevención y Respuesta ante Desastres (Senapred) declaró alerta roja para la comuna de Tomé, Región del Biobío, debido a un voraz incendio forestal que se encuentra cercano a sectores habitados. Según la última actualización de la Corporación Nacional Forestal (Conaf), el siniestro denominado “Las Quilas” ha consumido, hasta el momento, 2,5 hectáreas de vegetación. Además, el incendio se encuentra en etapa activa, con alta intensidad en todos sus sectores.\n"
     ]
    }
   ],
   "source": [
    "# Extraer las tres primeras frases de una noticia\n",
    "fila_seleccionada = df.loc[4, \"text\"] \n",
    "frases = fila_seleccionada.split('.')[:3]  # Dividir el texto en oraciones y tomar las primeras tres\n",
    "text=\"\"\n",
    "# Imprimir las tres primeras frases\n",
    "for frase in frases:\n",
    "    text=text+frase+\".\"\n",
    "\n",
    "print(text)"
   ]
  },
  {
   "cell_type": "code",
   "execution_count": 26,
   "id": "f6d02fc8-f4cb-4c41-8699-929d9093bd78",
   "metadata": {},
   "outputs": [
    {
     "data": {
      "text/plain": [
       "{'score': 0.41144898533821106,\n",
       " 'start': 167,\n",
       " 'end': 185,\n",
       " 'answer': ' incendio forestal'}"
      ]
     },
     "execution_count": 26,
     "metadata": {},
     "output_type": "execute_result"
    }
   ],
   "source": [
    "question = \"de qué tipo de evento habla la noticia?\"\n",
    "context = text\n",
    "qa_model(question = question, context = context)"
   ]
  },
  {
   "cell_type": "code",
   "execution_count": 27,
   "id": "d92a9064-66e5-41a1-a52d-32a4ddb1b0e1",
   "metadata": {},
   "outputs": [
    {
     "data": {
      "text/plain": [
       "{'score': 0.965950071811676, 'start': 124, 'end': 130, 'answer': ' Tomé,'}"
      ]
     },
     "execution_count": 27,
     "metadata": {},
     "output_type": "execute_result"
    }
   ],
   "source": [
    "question = \"En qué comuna ocurre el evento?\"\n",
    "context = text\n",
    "qa_model(question = question, context = context)"
   ]
  },
  {
   "cell_type": "code",
   "execution_count": 28,
   "id": "849e8c09-fb90-4164-a5d0-f095b25fd895",
   "metadata": {},
   "outputs": [
    {
     "data": {
      "text/plain": [
       "{'score': 0.2430422455072403,\n",
       " 'start': 459,\n",
       " 'end': 475,\n",
       " 'answer': ' alta intensidad'}"
      ]
     },
     "execution_count": 28,
     "metadata": {},
     "output_type": "execute_result"
    }
   ],
   "source": [
    "question = \"Cuál es la polaridad del evento?\"\n",
    "context = text\n",
    "qa_model(question = question, context = context)"
   ]
  },
  {
   "cell_type": "markdown",
   "id": "92bb40e0-a821-41e2-a4d0-1845492b8696",
   "metadata": {},
   "source": [
    "- Análisis de sentimiento"
   ]
  },
  {
   "cell_type": "code",
   "execution_count": 29,
   "id": "810f6e8f-6f79-4fc6-97c6-b03867d75693",
   "metadata": {},
   "outputs": [
    {
     "data": {
      "application/vnd.jupyter.widget-view+json": {
       "model_id": "52eaf61b9b134a84823dc3c914a19f91",
       "version_major": 2,
       "version_minor": 0
      },
      "text/plain": [
       "Downloading config.json:   0%|          | 0.00/841 [00:00<?, ?B/s]"
      ]
     },
     "metadata": {},
     "output_type": "display_data"
    },
    {
     "data": {
      "application/vnd.jupyter.widget-view+json": {
       "model_id": "cade5f3ebfc845f8af6685edef1fe41e",
       "version_major": 2,
       "version_minor": 0
      },
      "text/plain": [
       "Downloading pytorch_model.bin:   0%|          | 0.00/440M [00:00<?, ?B/s]"
      ]
     },
     "metadata": {},
     "output_type": "display_data"
    },
    {
     "data": {
      "application/vnd.jupyter.widget-view+json": {
       "model_id": "fddd20e70e424e9793894ac2461803a0",
       "version_major": 2,
       "version_minor": 0
      },
      "text/plain": [
       "Downloading tokenizer_config.json:   0%|          | 0.00/528 [00:00<?, ?B/s]"
      ]
     },
     "metadata": {},
     "output_type": "display_data"
    },
    {
     "data": {
      "application/vnd.jupyter.widget-view+json": {
       "model_id": "6e1540b5bd994acc9f906c8b54fe74fa",
       "version_major": 2,
       "version_minor": 0
      },
      "text/plain": [
       "Downloading vocab.txt:   0%|          | 0.00/242k [00:00<?, ?B/s]"
      ]
     },
     "metadata": {},
     "output_type": "display_data"
    },
    {
     "data": {
      "application/vnd.jupyter.widget-view+json": {
       "model_id": "8ed4a73241f24d5ebae0a21e2d9e0e7f",
       "version_major": 2,
       "version_minor": 0
      },
      "text/plain": [
       "Downloading tokenizer.json:   0%|          | 0.00/481k [00:00<?, ?B/s]"
      ]
     },
     "metadata": {},
     "output_type": "display_data"
    },
    {
     "data": {
      "application/vnd.jupyter.widget-view+json": {
       "model_id": "d6470f8ca1254f3f96235defdd5ef234",
       "version_major": 2,
       "version_minor": 0
      },
      "text/plain": [
       "Downloading added_tokens.json:   0%|          | 0.00/67.0 [00:00<?, ?B/s]"
      ]
     },
     "metadata": {},
     "output_type": "display_data"
    },
    {
     "data": {
      "application/vnd.jupyter.widget-view+json": {
       "model_id": "ca3ef0678a364f569a64eb26d9080f12",
       "version_major": 2,
       "version_minor": 0
      },
      "text/plain": [
       "Downloading (…)cial_tokens_map.json:   0%|          | 0.00/112 [00:00<?, ?B/s]"
      ]
     },
     "metadata": {},
     "output_type": "display_data"
    },
    {
     "name": "stderr",
     "output_type": "stream",
     "text": [
      "Special tokens have been added in the vocabulary, make sure the associated word embeddings are fine-tuned or trained.\n"
     ]
    }
   ],
   "source": [
    "from transformers import AutoTokenizer, AutoModelForSequenceClassification\n",
    "from transformers import pipeline\n",
    "\n",
    "model_name = \"finiteautomata/beto-sentiment-analysis\"\n",
    "model = AutoModelForSequenceClassification.from_pretrained(model_name)\n",
    "tokenizer = AutoTokenizer.from_pretrained(model_name)\n",
    "\n",
    "sentiment_pipeline = pipeline(\"sentiment-analysis\", model=model, tokenizer=tokenizer)"
   ]
  },
  {
   "cell_type": "code",
   "execution_count": 30,
   "id": "1bdfb075-fe6e-4e13-9de2-cca6ffca9ad6",
   "metadata": {},
   "outputs": [
    {
     "data": {
      "text/plain": [
       "'Este domingo, el Servicio Nacional de Prevención y Respuesta ante Desastres (Senapred) declaró alerta roja para la comuna de Tomé, Región del Biobío, debido a un voraz incendio forestal que se encuentra cercano a sectores habitados. Según la última actualización de la Corporación Nacional Forestal (Conaf), el siniestro denominado “Las Quilas” ha consumido, hasta el momento, 2,5 hectáreas de vegetación. Además, el incendio se encuentra en etapa activa, con alta intensidad en todos sus sectores.'"
      ]
     },
     "execution_count": 30,
     "metadata": {},
     "output_type": "execute_result"
    }
   ],
   "source": [
    "text"
   ]
  },
  {
   "cell_type": "code",
   "execution_count": 31,
   "id": "547fc17c-2470-4747-a731-4cde120cc50c",
   "metadata": {},
   "outputs": [
    {
     "name": "stdout",
     "output_type": "stream",
     "text": [
      "[{'label': 'NEU', 'score': 0.933800995349884}]\n"
     ]
    }
   ],
   "source": [
    "sentiment_value = sentiment_pipeline(text)\n",
    "print(sentiment_value)"
   ]
  },
  {
   "cell_type": "code",
   "execution_count": 32,
   "id": "0a5884eb-a49c-49cd-8419-60cfeab56dc1",
   "metadata": {},
   "outputs": [
    {
     "name": "stderr",
     "output_type": "stream",
     "text": [
      "Análisis de sentimiento: 100%|███████████████████████████████████████████████████████| 100/100 [00:07<00:00, 13.89it/s]\n"
     ]
    }
   ],
   "source": [
    "for index, row in tqdm(df_muestra.iterrows(), desc='Análisis de sentimiento', total=df_muestra.shape[0]):\n",
    "    \n",
    "    sentiment_value = sentiment_pipeline(row['title'])\n",
    "    \n",
    "    # Insertamos en dataframe\n",
    "    df_muestra.at[index, \"prediction\"] = sentiment_value[0].get('label')\n",
    "    df_muestra.at[index, \"score\"] = sentiment_value[0].get('score')"
   ]
  },
  {
   "cell_type": "code",
   "execution_count": 33,
   "id": "fa175cb7-1f92-4d25-968d-d4b2c3c4861b",
   "metadata": {},
   "outputs": [
    {
     "data": {
      "text/html": [
       "<div>\n",
       "<style scoped>\n",
       "    .dataframe tbody tr th:only-of-type {\n",
       "        vertical-align: middle;\n",
       "    }\n",
       "\n",
       "    .dataframe tbody tr th {\n",
       "        vertical-align: top;\n",
       "    }\n",
       "\n",
       "    .dataframe thead th {\n",
       "        text-align: right;\n",
       "    }\n",
       "</style>\n",
       "<table border=\"1\" class=\"dataframe\">\n",
       "  <thead>\n",
       "    <tr style=\"text-align: right;\">\n",
       "      <th></th>\n",
       "      <th>date</th>\n",
       "      <th>media_outlet</th>\n",
       "      <th>country</th>\n",
       "      <th>title</th>\n",
       "      <th>text</th>\n",
       "      <th>url</th>\n",
       "      <th>month_year</th>\n",
       "      <th>person_entities</th>\n",
       "      <th>prediction</th>\n",
       "      <th>score</th>\n",
       "    </tr>\n",
       "  </thead>\n",
       "  <tbody>\n",
       "    <tr>\n",
       "      <th>21435</th>\n",
       "      <td>2023-10-18</td>\n",
       "      <td>latercera</td>\n",
       "      <td>chile</td>\n",
       "      <td>Hellboy Web of Wyrd presenta su tráiler de lan...</td>\n",
       "      <td>DUrante la jornada de este jueves es que fue d...</td>\n",
       "      <td>https://www.latercera.com/mouse/hellboy-web-of...</td>\n",
       "      <td>2023-10</td>\n",
       "      <td>[Mike Mignola, Mike Mignola, Mike Mignola]</td>\n",
       "      <td>NEU</td>\n",
       "      <td>0.964019</td>\n",
       "    </tr>\n",
       "    <tr>\n",
       "      <th>15825</th>\n",
       "      <td>2023-08-05</td>\n",
       "      <td>latercera</td>\n",
       "      <td>chile</td>\n",
       "      <td>Bus RED se incendia en pleno viaje en San Migu...</td>\n",
       "      <td>Un bus del sistema RED resultó quemado la noch...</td>\n",
       "      <td>https://www.latercera.com/nacional/noticia/bus...</td>\n",
       "      <td>2023-08</td>\n",
       "      <td>[Crimen Organizado de la Fiscalía Metropolitan...</td>\n",
       "      <td>NEU</td>\n",
       "      <td>0.567413</td>\n",
       "    </tr>\n",
       "    <tr>\n",
       "      <th>8449</th>\n",
       "      <td>2023-04-26</td>\n",
       "      <td>latercera</td>\n",
       "      <td>chile</td>\n",
       "      <td>Saw X se presenta de cara a su estreno en cine...</td>\n",
       "      <td>El estudio Lionsgate promete mantener a los fa...</td>\n",
       "      <td>https://www.latercera.com/mouse/saw-x-se-prese...</td>\n",
       "      <td>2023-04</td>\n",
       "      <td>[Tobin Bell, Shawnee Smith, Amanda Young, Tobi...</td>\n",
       "      <td>NEU</td>\n",
       "      <td>0.960459</td>\n",
       "    </tr>\n",
       "    <tr>\n",
       "      <th>3200</th>\n",
       "      <td>2023-02-09</td>\n",
       "      <td>latercera</td>\n",
       "      <td>chile</td>\n",
       "      <td>Justicia de EE.UU. cita a exvicepresidente Mik...</td>\n",
       "      <td>El Departamento de Justicia de Estados Unidos ...</td>\n",
       "      <td>https://www.latercera.com/mundo/noticia/justic...</td>\n",
       "      <td>2023-02</td>\n",
       "      <td>[Mike Pence, Donald Trump, Jack Smith, Donald ...</td>\n",
       "      <td>NEG</td>\n",
       "      <td>0.723072</td>\n",
       "    </tr>\n",
       "    <tr>\n",
       "      <th>23260</th>\n",
       "      <td>2023-11-14</td>\n",
       "      <td>latercera</td>\n",
       "      <td>chile</td>\n",
       "      <td>Biden y Netanyahu hablan sobre sus esfuerzos p...</td>\n",
       "      <td>El presidente de Estados Unidos, Joe Biden, y ...</td>\n",
       "      <td>https://www.latercera.com/mundo/noticia/biden-...</td>\n",
       "      <td>2023-11</td>\n",
       "      <td>[Joe Biden, Benjamin Netanyahu]</td>\n",
       "      <td>NEU</td>\n",
       "      <td>0.995710</td>\n",
       "    </tr>\n",
       "    <tr>\n",
       "      <th>...</th>\n",
       "      <td>...</td>\n",
       "      <td>...</td>\n",
       "      <td>...</td>\n",
       "      <td>...</td>\n",
       "      <td>...</td>\n",
       "      <td>...</td>\n",
       "      <td>...</td>\n",
       "      <td>...</td>\n",
       "      <td>...</td>\n",
       "      <td>...</td>\n",
       "    </tr>\n",
       "    <tr>\n",
       "      <th>10011</th>\n",
       "      <td>2023-05-19</td>\n",
       "      <td>latercera</td>\n",
       "      <td>chile</td>\n",
       "      <td>Detienen a cuarto marino por homicidio de pers...</td>\n",
       "      <td>La noche de este viernes, un cuarto miembro de...</td>\n",
       "      <td>https://www.latercera.com/nacional/noticia/det...</td>\n",
       "      <td>2023-05</td>\n",
       "      <td>[Buque Almirante Cochrane, Milton Domínguez Mo...</td>\n",
       "      <td>NEG</td>\n",
       "      <td>0.553137</td>\n",
       "    </tr>\n",
       "    <tr>\n",
       "      <th>10735</th>\n",
       "      <td>2023-05-30</td>\n",
       "      <td>latercera</td>\n",
       "      <td>chile</td>\n",
       "      <td>Cómo el fenómeno El Niño y el cambio climático...</td>\n",
       "      <td>Una fuerte crisis sanitaria, con el peor brote...</td>\n",
       "      <td>https://www.latercera.com/tendencias/noticia/c...</td>\n",
       "      <td>2023-05</td>\n",
       "      <td>[La OMS, Raman Velayudhan, Jason Mackenzie]</td>\n",
       "      <td>NEG</td>\n",
       "      <td>0.995885</td>\n",
       "    </tr>\n",
       "    <tr>\n",
       "      <th>323</th>\n",
       "      <td>2023-01-04</td>\n",
       "      <td>latercera</td>\n",
       "      <td>chile</td>\n",
       "      <td>El Drácula de Nicolas Cage se presenta en el p...</td>\n",
       "      <td>Finalmente tenemos el primer adelanto de uno d...</td>\n",
       "      <td>https://www.latercera.com/mouse/el-dracula-de-...</td>\n",
       "      <td>2023-01</td>\n",
       "      <td>[Nicolas Cage, Nicholas Hoult, Nicolas Cage, N...</td>\n",
       "      <td>NEU</td>\n",
       "      <td>0.994928</td>\n",
       "    </tr>\n",
       "    <tr>\n",
       "      <th>7889</th>\n",
       "      <td>2023-04-16</td>\n",
       "      <td>latercera</td>\n",
       "      <td>chile</td>\n",
       "      <td>¿Se va o se queda? La inquietud de La Moneda a...</td>\n",
       "      <td>“Tengo hipersomnia (dormir demasiado) con un e...</td>\n",
       "      <td>https://www.latercera.com/la-tercera-pm/notici...</td>\n",
       "      <td>2023-04</td>\n",
       "      <td>[Ana Lya Uriarte, Paulina Vodanovic, Ana Lya, ...</td>\n",
       "      <td>NEG</td>\n",
       "      <td>0.930944</td>\n",
       "    </tr>\n",
       "    <tr>\n",
       "      <th>16113</th>\n",
       "      <td>2023-08-08</td>\n",
       "      <td>latercera</td>\n",
       "      <td>chile</td>\n",
       "      <td>Justicia de Estados Unidos sentencia al peligr...</td>\n",
       "      <td>Durante años, el hombre conocido como “Otoniel...</td>\n",
       "      <td>https://www.latercera.com/mundo/noticia/justic...</td>\n",
       "      <td>2023-08</td>\n",
       "      <td>[Dairo Antonio Úsuga, Dora Irizarry, Joaquín “...</td>\n",
       "      <td>NEG</td>\n",
       "      <td>0.900215</td>\n",
       "    </tr>\n",
       "  </tbody>\n",
       "</table>\n",
       "<p>100 rows × 10 columns</p>\n",
       "</div>"
      ],
      "text/plain": [
       "            date media_outlet country  \\\n",
       "21435 2023-10-18    latercera   chile   \n",
       "15825 2023-08-05    latercera   chile   \n",
       "8449  2023-04-26    latercera   chile   \n",
       "3200  2023-02-09    latercera   chile   \n",
       "23260 2023-11-14    latercera   chile   \n",
       "...          ...          ...     ...   \n",
       "10011 2023-05-19    latercera   chile   \n",
       "10735 2023-05-30    latercera   chile   \n",
       "323   2023-01-04    latercera   chile   \n",
       "7889  2023-04-16    latercera   chile   \n",
       "16113 2023-08-08    latercera   chile   \n",
       "\n",
       "                                                   title  \\\n",
       "21435  Hellboy Web of Wyrd presenta su tráiler de lan...   \n",
       "15825  Bus RED se incendia en pleno viaje en San Migu...   \n",
       "8449   Saw X se presenta de cara a su estreno en cine...   \n",
       "3200   Justicia de EE.UU. cita a exvicepresidente Mik...   \n",
       "23260  Biden y Netanyahu hablan sobre sus esfuerzos p...   \n",
       "...                                                  ...   \n",
       "10011  Detienen a cuarto marino por homicidio de pers...   \n",
       "10735  Cómo el fenómeno El Niño y el cambio climático...   \n",
       "323    El Drácula de Nicolas Cage se presenta en el p...   \n",
       "7889   ¿Se va o se queda? La inquietud de La Moneda a...   \n",
       "16113  Justicia de Estados Unidos sentencia al peligr...   \n",
       "\n",
       "                                                    text  \\\n",
       "21435  DUrante la jornada de este jueves es que fue d...   \n",
       "15825  Un bus del sistema RED resultó quemado la noch...   \n",
       "8449   El estudio Lionsgate promete mantener a los fa...   \n",
       "3200   El Departamento de Justicia de Estados Unidos ...   \n",
       "23260  El presidente de Estados Unidos, Joe Biden, y ...   \n",
       "...                                                  ...   \n",
       "10011  La noche de este viernes, un cuarto miembro de...   \n",
       "10735  Una fuerte crisis sanitaria, con el peor brote...   \n",
       "323    Finalmente tenemos el primer adelanto de uno d...   \n",
       "7889   “Tengo hipersomnia (dormir demasiado) con un e...   \n",
       "16113  Durante años, el hombre conocido como “Otoniel...   \n",
       "\n",
       "                                                     url month_year  \\\n",
       "21435  https://www.latercera.com/mouse/hellboy-web-of...    2023-10   \n",
       "15825  https://www.latercera.com/nacional/noticia/bus...    2023-08   \n",
       "8449   https://www.latercera.com/mouse/saw-x-se-prese...    2023-04   \n",
       "3200   https://www.latercera.com/mundo/noticia/justic...    2023-02   \n",
       "23260  https://www.latercera.com/mundo/noticia/biden-...    2023-11   \n",
       "...                                                  ...        ...   \n",
       "10011  https://www.latercera.com/nacional/noticia/det...    2023-05   \n",
       "10735  https://www.latercera.com/tendencias/noticia/c...    2023-05   \n",
       "323    https://www.latercera.com/mouse/el-dracula-de-...    2023-01   \n",
       "7889   https://www.latercera.com/la-tercera-pm/notici...    2023-04   \n",
       "16113  https://www.latercera.com/mundo/noticia/justic...    2023-08   \n",
       "\n",
       "                                         person_entities prediction     score  \n",
       "21435         [Mike Mignola, Mike Mignola, Mike Mignola]        NEU  0.964019  \n",
       "15825  [Crimen Organizado de la Fiscalía Metropolitan...        NEU  0.567413  \n",
       "8449   [Tobin Bell, Shawnee Smith, Amanda Young, Tobi...        NEU  0.960459  \n",
       "3200   [Mike Pence, Donald Trump, Jack Smith, Donald ...        NEG  0.723072  \n",
       "23260                    [Joe Biden, Benjamin Netanyahu]        NEU  0.995710  \n",
       "...                                                  ...        ...       ...  \n",
       "10011  [Buque Almirante Cochrane, Milton Domínguez Mo...        NEG  0.553137  \n",
       "10735        [La OMS, Raman Velayudhan, Jason Mackenzie]        NEG  0.995885  \n",
       "323    [Nicolas Cage, Nicholas Hoult, Nicolas Cage, N...        NEU  0.994928  \n",
       "7889   [Ana Lya Uriarte, Paulina Vodanovic, Ana Lya, ...        NEG  0.930944  \n",
       "16113  [Dairo Antonio Úsuga, Dora Irizarry, Joaquín “...        NEG  0.900215  \n",
       "\n",
       "[100 rows x 10 columns]"
      ]
     },
     "execution_count": 33,
     "metadata": {},
     "output_type": "execute_result"
    }
   ],
   "source": [
    "df_muestra"
   ]
  },
  {
   "cell_type": "markdown",
   "id": "1ed51c24-47d5-4802-8f9f-11ebd238b130",
   "metadata": {},
   "source": [
    "- Filtrar las noticias a partir de ciertas palabras claves"
   ]
  },
  {
   "cell_type": "code",
   "execution_count": 39,
   "id": "57e769ea-c9b1-4689-b7d8-30f3d83c34f4",
   "metadata": {},
   "outputs": [],
   "source": [
    "# Definir palabras clave de búsqueda\n",
    "palabras_clave = [\"incendios forestales\", \"Chile\"]\n",
    "\n",
    "# Función para calcular la relevancia de una fila basada en las palabras clave\n",
    "def calcular_relevancia(texto):\n",
    "    relevancia = sum(1 for palabra in palabras_clave if palabra in texto)\n",
    "    return relevancia"
   ]
  },
  {
   "cell_type": "code",
   "execution_count": 40,
   "id": "7befbbff-0f41-4027-9ec5-9818a71c43a8",
   "metadata": {},
   "outputs": [
    {
     "data": {
      "text/html": [
       "<div>\n",
       "<style scoped>\n",
       "    .dataframe tbody tr th:only-of-type {\n",
       "        vertical-align: middle;\n",
       "    }\n",
       "\n",
       "    .dataframe tbody tr th {\n",
       "        vertical-align: top;\n",
       "    }\n",
       "\n",
       "    .dataframe thead th {\n",
       "        text-align: right;\n",
       "    }\n",
       "</style>\n",
       "<table border=\"1\" class=\"dataframe\">\n",
       "  <thead>\n",
       "    <tr style=\"text-align: right;\">\n",
       "      <th></th>\n",
       "      <th>date</th>\n",
       "      <th>media_outlet</th>\n",
       "      <th>country</th>\n",
       "      <th>title</th>\n",
       "      <th>text</th>\n",
       "      <th>url</th>\n",
       "      <th>month_year</th>\n",
       "      <th>relevancia</th>\n",
       "    </tr>\n",
       "  </thead>\n",
       "  <tbody>\n",
       "    <tr>\n",
       "      <th>10360</th>\n",
       "      <td>2023-05-24</td>\n",
       "      <td>latercera</td>\n",
       "      <td>chile</td>\n",
       "      <td>El Niño: qué son las ondas Kelvin detectadas p...</td>\n",
       "      <td>Durante los últimos meses, los especialistas d...</td>\n",
       "      <td>https://www.latercera.com/tendencias/noticia/e...</td>\n",
       "      <td>2023-05</td>\n",
       "      <td>2</td>\n",
       "    </tr>\n",
       "    <tr>\n",
       "      <th>2693</th>\n",
       "      <td>2023-02-04</td>\n",
       "      <td>latercera</td>\n",
       "      <td>chile</td>\n",
       "      <td>La Unión Europea ofrece su ayuda para hacer fr...</td>\n",
       "      <td>La Comisión Europea ofreció la ayuda de la Uni...</td>\n",
       "      <td>https://www.latercera.com/mundo/noticia/la-uni...</td>\n",
       "      <td>2023-02</td>\n",
       "      <td>2</td>\n",
       "    </tr>\n",
       "    <tr>\n",
       "      <th>2683</th>\n",
       "      <td>2023-02-04</td>\n",
       "      <td>latercera</td>\n",
       "      <td>chile</td>\n",
       "      <td>Presidente de Corma asegura que “todos los inc...</td>\n",
       "      <td>El presidente de la Corporación Chilena de la ...</td>\n",
       "      <td>https://www.latercera.com/nacional/noticia/pre...</td>\n",
       "      <td>2023-02</td>\n",
       "      <td>2</td>\n",
       "    </tr>\n",
       "    <tr>\n",
       "      <th>2682</th>\n",
       "      <td>2023-02-04</td>\n",
       "      <td>latercera</td>\n",
       "      <td>chile</td>\n",
       "      <td>Monsalve confirma 23 fallecidos y siete deteni...</td>\n",
       "      <td>A eso de las 22 horas, el subsecretario del In...</td>\n",
       "      <td>https://www.latercera.com/nacional/noticia/mon...</td>\n",
       "      <td>2023-02</td>\n",
       "      <td>2</td>\n",
       "    </tr>\n",
       "    <tr>\n",
       "      <th>2676</th>\n",
       "      <td>2023-02-04</td>\n",
       "      <td>latercera</td>\n",
       "      <td>chile</td>\n",
       "      <td>Incendios en el sur: Boric hace un llamado a l...</td>\n",
       "      <td>Durante la tarde de este domingo, el President...</td>\n",
       "      <td>https://www.latercera.com/nacional/noticia/inc...</td>\n",
       "      <td>2023-02</td>\n",
       "      <td>2</td>\n",
       "    </tr>\n",
       "    <tr>\n",
       "      <th>...</th>\n",
       "      <td>...</td>\n",
       "      <td>...</td>\n",
       "      <td>...</td>\n",
       "      <td>...</td>\n",
       "      <td>...</td>\n",
       "      <td>...</td>\n",
       "      <td>...</td>\n",
       "      <td>...</td>\n",
       "    </tr>\n",
       "    <tr>\n",
       "      <th>9139</th>\n",
       "      <td>2023-05-07</td>\n",
       "      <td>latercera</td>\n",
       "      <td>chile</td>\n",
       "      <td>Providencia, Las Condes y Vitacura: los bastio...</td>\n",
       "      <td>Fue en el plebiscito de entrada, el 25 de octu...</td>\n",
       "      <td>https://www.latercera.com/politica/noticia/pro...</td>\n",
       "      <td>2023-05</td>\n",
       "      <td>1</td>\n",
       "    </tr>\n",
       "    <tr>\n",
       "      <th>9138</th>\n",
       "      <td>2023-05-07</td>\n",
       "      <td>latercera</td>\n",
       "      <td>chile</td>\n",
       "      <td>Servel informa nueva corrección por paridad en...</td>\n",
       "      <td>Un error de tipeo ocurrido en Colchane en la e...</td>\n",
       "      <td>https://www.latercera.com/politica/noticia/ser...</td>\n",
       "      <td>2023-05</td>\n",
       "      <td>1</td>\n",
       "    </tr>\n",
       "    <tr>\n",
       "      <th>9137</th>\n",
       "      <td>2023-05-07</td>\n",
       "      <td>latercera</td>\n",
       "      <td>chile</td>\n",
       "      <td>Error de tipeo en Colchane obliga a corregir e...</td>\n",
       "      <td>Pese a ser una de la comunas con menos elector...</td>\n",
       "      <td>https://www.latercera.com/politica/noticia/uno...</td>\n",
       "      <td>2023-05</td>\n",
       "      <td>1</td>\n",
       "    </tr>\n",
       "    <tr>\n",
       "      <th>9136</th>\n",
       "      <td>2023-05-07</td>\n",
       "      <td>latercera</td>\n",
       "      <td>chile</td>\n",
       "      <td>La Moneda, el día después de la derrota: se ag...</td>\n",
       "      <td>Como un balde de agua fría cayó este lunes en ...</td>\n",
       "      <td>https://www.latercera.com/politica/noticia/la-...</td>\n",
       "      <td>2023-05</td>\n",
       "      <td>1</td>\n",
       "    </tr>\n",
       "    <tr>\n",
       "      <th>26987</th>\n",
       "      <td>2023-12-31</td>\n",
       "      <td>latercera</td>\n",
       "      <td>chile</td>\n",
       "      <td>Centro Sismológico explica porqué se descartó ...</td>\n",
       "      <td>Este lunes un terremoto de magnitud 7.5 sacudi...</td>\n",
       "      <td>https://www.latercera.com/nacional/noticia/cen...</td>\n",
       "      <td>2023-12</td>\n",
       "      <td>1</td>\n",
       "    </tr>\n",
       "  </tbody>\n",
       "</table>\n",
       "<p>7648 rows × 8 columns</p>\n",
       "</div>"
      ],
      "text/plain": [
       "            date media_outlet country  \\\n",
       "10360 2023-05-24    latercera   chile   \n",
       "2693  2023-02-04    latercera   chile   \n",
       "2683  2023-02-04    latercera   chile   \n",
       "2682  2023-02-04    latercera   chile   \n",
       "2676  2023-02-04    latercera   chile   \n",
       "...          ...          ...     ...   \n",
       "9139  2023-05-07    latercera   chile   \n",
       "9138  2023-05-07    latercera   chile   \n",
       "9137  2023-05-07    latercera   chile   \n",
       "9136  2023-05-07    latercera   chile   \n",
       "26987 2023-12-31    latercera   chile   \n",
       "\n",
       "                                                   title  \\\n",
       "10360  El Niño: qué son las ondas Kelvin detectadas p...   \n",
       "2693   La Unión Europea ofrece su ayuda para hacer fr...   \n",
       "2683   Presidente de Corma asegura que “todos los inc...   \n",
       "2682   Monsalve confirma 23 fallecidos y siete deteni...   \n",
       "2676   Incendios en el sur: Boric hace un llamado a l...   \n",
       "...                                                  ...   \n",
       "9139   Providencia, Las Condes y Vitacura: los bastio...   \n",
       "9138   Servel informa nueva corrección por paridad en...   \n",
       "9137   Error de tipeo en Colchane obliga a corregir e...   \n",
       "9136   La Moneda, el día después de la derrota: se ag...   \n",
       "26987  Centro Sismológico explica porqué se descartó ...   \n",
       "\n",
       "                                                    text  \\\n",
       "10360  Durante los últimos meses, los especialistas d...   \n",
       "2693   La Comisión Europea ofreció la ayuda de la Uni...   \n",
       "2683   El presidente de la Corporación Chilena de la ...   \n",
       "2682   A eso de las 22 horas, el subsecretario del In...   \n",
       "2676   Durante la tarde de este domingo, el President...   \n",
       "...                                                  ...   \n",
       "9139   Fue en el plebiscito de entrada, el 25 de octu...   \n",
       "9138   Un error de tipeo ocurrido en Colchane en la e...   \n",
       "9137   Pese a ser una de la comunas con menos elector...   \n",
       "9136   Como un balde de agua fría cayó este lunes en ...   \n",
       "26987  Este lunes un terremoto de magnitud 7.5 sacudi...   \n",
       "\n",
       "                                                     url month_year  \\\n",
       "10360  https://www.latercera.com/tendencias/noticia/e...    2023-05   \n",
       "2693   https://www.latercera.com/mundo/noticia/la-uni...    2023-02   \n",
       "2683   https://www.latercera.com/nacional/noticia/pre...    2023-02   \n",
       "2682   https://www.latercera.com/nacional/noticia/mon...    2023-02   \n",
       "2676   https://www.latercera.com/nacional/noticia/inc...    2023-02   \n",
       "...                                                  ...        ...   \n",
       "9139   https://www.latercera.com/politica/noticia/pro...    2023-05   \n",
       "9138   https://www.latercera.com/politica/noticia/ser...    2023-05   \n",
       "9137   https://www.latercera.com/politica/noticia/uno...    2023-05   \n",
       "9136   https://www.latercera.com/politica/noticia/la-...    2023-05   \n",
       "26987  https://www.latercera.com/nacional/noticia/cen...    2023-12   \n",
       "\n",
       "       relevancia  \n",
       "10360           2  \n",
       "2693            2  \n",
       "2683            2  \n",
       "2682            2  \n",
       "2676            2  \n",
       "...           ...  \n",
       "9139            1  \n",
       "9138            1  \n",
       "9137            1  \n",
       "9136            1  \n",
       "26987           1  \n",
       "\n",
       "[7648 rows x 8 columns]"
      ]
     },
     "execution_count": 40,
     "metadata": {},
     "output_type": "execute_result"
    }
   ],
   "source": [
    "# Aplicar la función calcular_relevancia a cada fila y guardar el resultado en una nueva columna \"relevancia\"\n",
    "df[\"relevancia\"] = df[\"text\"].apply(calcular_relevancia)\n",
    "\n",
    "# Seleccionar las filas más relevantes\n",
    "filas_mas_relevantes = df[df[\"relevancia\"] > 0]\n",
    "\n",
    "# Imprimir las filas más relevantes\n",
    "filas_mas_relevantes.sort_values(by=\"relevancia\", ascending=False)"
   ]
  },
  {
   "cell_type": "code",
   "execution_count": 41,
   "id": "3b48dea4-c813-49ce-a86a-65825b7b6fc4",
   "metadata": {},
   "outputs": [
    {
     "name": "stdout",
     "output_type": "stream",
     "text": [
      "Con alerta roja se mantiene la comuna de Lumaco por los incendios forestales que han destruido miles de hectáreas de plantaciones de bosques, vegetación diversa y que ,además, ha mantenido bajo amenaza a centenares de viviendas desde el pasado 29 de diciembre. Según el último reporte de Conaf, el incendio que afecta a la comuna de Lumaco que se mantiene en combate ha dañado 2.164 hectáreas. En el control del incendio trabajan cinco brigadas de Conaf, cinco aviones cisterna, un helicóptero semipesado y un avión pesado C130. La directora de Conaf de la región de la Araucanía, María Teresa Huentequeo, indicó que “en estos momentos se mantienen seis incendios forestales en nuestra región, donde nuestros funcionarios están trabajando y mantenemos alerta roja por el incendio “Las delicias” en la comuna de Lumaco y hasta el momento reportamos la afectación de 2.173 hectáreas en el sector”. Los otros incendios que se encuentran en combate son otros dos que afectan a las comuna de Galvarino y el resto a las comunas de Collipulli, Lumaco, Angol En todas estas emergencias trabaja personal de técnico y brigadistas de Conaf de empresas forestales, con apoyo de helicópteros y aviones cisterna. En tanto, en la región del Biobío, lo que respecta a los incendios forestales que afectaban a las comunas de Santa Juana y Nacimiento, se levantó la alerta roja para estas comunas, donde fueron consumidas unas 40 viviendas y una escuela rural. A lo que se suman unas 5.300 hectáreas de bosques y vegetación diversas destruidas por el fuego que se encuentra contenido, por el trabajo que continúan desarrollando brigadistas y personal de bomberos en la zona de emergencia, con apoyo aéreo lanzando agua a los puntos calientes del siniestro. Por favor, inicia sesión en La Tercera para acceder a los comentarios.\n"
     ]
    }
   ],
   "source": [
    "text = filas_mas_relevantes.loc[0, \"text\"] \n",
    "print(text)"
   ]
  },
  {
   "cell_type": "code",
   "execution_count": 42,
   "id": "a79a2479-b41c-4110-a50c-a92f034d4130",
   "metadata": {},
   "outputs": [
    {
     "ename": "KeyError",
     "evalue": "324010360",
     "output_type": "error",
     "traceback": [
      "\u001b[1;31m---------------------------------------------------------------------------\u001b[0m",
      "\u001b[1;31mKeyError\u001b[0m                                  Traceback (most recent call last)",
      "File \u001b[1;32m~\\anaconda3\\lib\\site-packages\\pandas\\core\\indexes\\base.py:3653\u001b[0m, in \u001b[0;36mIndex.get_loc\u001b[1;34m(self, key)\u001b[0m\n\u001b[0;32m   3652\u001b[0m \u001b[38;5;28;01mtry\u001b[39;00m:\n\u001b[1;32m-> 3653\u001b[0m     \u001b[38;5;28;01mreturn\u001b[39;00m \u001b[38;5;28;43mself\u001b[39;49m\u001b[38;5;241;43m.\u001b[39;49m\u001b[43m_engine\u001b[49m\u001b[38;5;241;43m.\u001b[39;49m\u001b[43mget_loc\u001b[49m\u001b[43m(\u001b[49m\u001b[43mcasted_key\u001b[49m\u001b[43m)\u001b[49m\n\u001b[0;32m   3654\u001b[0m \u001b[38;5;28;01mexcept\u001b[39;00m \u001b[38;5;167;01mKeyError\u001b[39;00m \u001b[38;5;28;01mas\u001b[39;00m err:\n",
      "File \u001b[1;32m~\\anaconda3\\lib\\site-packages\\pandas\\_libs\\index.pyx:147\u001b[0m, in \u001b[0;36mpandas._libs.index.IndexEngine.get_loc\u001b[1;34m()\u001b[0m\n",
      "File \u001b[1;32m~\\anaconda3\\lib\\site-packages\\pandas\\_libs\\index.pyx:176\u001b[0m, in \u001b[0;36mpandas._libs.index.IndexEngine.get_loc\u001b[1;34m()\u001b[0m\n",
      "File \u001b[1;32mpandas\\_libs\\hashtable_class_helper.pxi:2606\u001b[0m, in \u001b[0;36mpandas._libs.hashtable.Int64HashTable.get_item\u001b[1;34m()\u001b[0m\n",
      "File \u001b[1;32mpandas\\_libs\\hashtable_class_helper.pxi:2630\u001b[0m, in \u001b[0;36mpandas._libs.hashtable.Int64HashTable.get_item\u001b[1;34m()\u001b[0m\n",
      "\u001b[1;31mKeyError\u001b[0m: 324010360",
      "\nThe above exception was the direct cause of the following exception:\n",
      "\u001b[1;31mKeyError\u001b[0m                                  Traceback (most recent call last)",
      "Input \u001b[1;32mIn [42]\u001b[0m, in \u001b[0;36m<cell line: 1>\u001b[1;34m()\u001b[0m\n\u001b[1;32m----> 1\u001b[0m text \u001b[38;5;241m=\u001b[39m \u001b[43mfilas_mas_relevantes\u001b[49m\u001b[38;5;241;43m.\u001b[39;49m\u001b[43mloc\u001b[49m\u001b[43m[\u001b[49m\u001b[38;5;241;43m324010360\u001b[39;49m\u001b[43m,\u001b[49m\u001b[43m \u001b[49m\u001b[38;5;124;43m\"\u001b[39;49m\u001b[38;5;124;43mtext\u001b[39;49m\u001b[38;5;124;43m\"\u001b[39;49m\u001b[43m]\u001b[49m \n\u001b[0;32m      2\u001b[0m \u001b[38;5;28mprint\u001b[39m(text)\n",
      "File \u001b[1;32m~\\anaconda3\\lib\\site-packages\\pandas\\core\\indexing.py:1096\u001b[0m, in \u001b[0;36m_LocationIndexer.__getitem__\u001b[1;34m(self, key)\u001b[0m\n\u001b[0;32m   1094\u001b[0m     key \u001b[38;5;241m=\u001b[39m \u001b[38;5;28mtuple\u001b[39m(com\u001b[38;5;241m.\u001b[39mapply_if_callable(x, \u001b[38;5;28mself\u001b[39m\u001b[38;5;241m.\u001b[39mobj) \u001b[38;5;28;01mfor\u001b[39;00m x \u001b[38;5;129;01min\u001b[39;00m key)\n\u001b[0;32m   1095\u001b[0m     \u001b[38;5;28;01mif\u001b[39;00m \u001b[38;5;28mself\u001b[39m\u001b[38;5;241m.\u001b[39m_is_scalar_access(key):\n\u001b[1;32m-> 1096\u001b[0m         \u001b[38;5;28;01mreturn\u001b[39;00m \u001b[38;5;28;43mself\u001b[39;49m\u001b[38;5;241;43m.\u001b[39;49m\u001b[43mobj\u001b[49m\u001b[38;5;241;43m.\u001b[39;49m\u001b[43m_get_value\u001b[49m\u001b[43m(\u001b[49m\u001b[38;5;241;43m*\u001b[39;49m\u001b[43mkey\u001b[49m\u001b[43m,\u001b[49m\u001b[43m \u001b[49m\u001b[43mtakeable\u001b[49m\u001b[38;5;241;43m=\u001b[39;49m\u001b[38;5;28;43mself\u001b[39;49m\u001b[38;5;241;43m.\u001b[39;49m\u001b[43m_takeable\u001b[49m\u001b[43m)\u001b[49m\n\u001b[0;32m   1097\u001b[0m     \u001b[38;5;28;01mreturn\u001b[39;00m \u001b[38;5;28mself\u001b[39m\u001b[38;5;241m.\u001b[39m_getitem_tuple(key)\n\u001b[0;32m   1098\u001b[0m \u001b[38;5;28;01melse\u001b[39;00m:\n\u001b[0;32m   1099\u001b[0m     \u001b[38;5;66;03m# we by definition only have the 0th axis\u001b[39;00m\n",
      "File \u001b[1;32m~\\anaconda3\\lib\\site-packages\\pandas\\core\\frame.py:3877\u001b[0m, in \u001b[0;36mDataFrame._get_value\u001b[1;34m(self, index, col, takeable)\u001b[0m\n\u001b[0;32m   3871\u001b[0m engine \u001b[38;5;241m=\u001b[39m \u001b[38;5;28mself\u001b[39m\u001b[38;5;241m.\u001b[39mindex\u001b[38;5;241m.\u001b[39m_engine\n\u001b[0;32m   3873\u001b[0m \u001b[38;5;28;01mif\u001b[39;00m \u001b[38;5;129;01mnot\u001b[39;00m \u001b[38;5;28misinstance\u001b[39m(\u001b[38;5;28mself\u001b[39m\u001b[38;5;241m.\u001b[39mindex, MultiIndex):\n\u001b[0;32m   3874\u001b[0m     \u001b[38;5;66;03m# CategoricalIndex: Trying to use the engine fastpath may give incorrect\u001b[39;00m\n\u001b[0;32m   3875\u001b[0m     \u001b[38;5;66;03m#  results if our categories are integers that dont match our codes\u001b[39;00m\n\u001b[0;32m   3876\u001b[0m     \u001b[38;5;66;03m# IntervalIndex: IntervalTree has no get_loc\u001b[39;00m\n\u001b[1;32m-> 3877\u001b[0m     row \u001b[38;5;241m=\u001b[39m \u001b[38;5;28;43mself\u001b[39;49m\u001b[38;5;241;43m.\u001b[39;49m\u001b[43mindex\u001b[49m\u001b[38;5;241;43m.\u001b[39;49m\u001b[43mget_loc\u001b[49m\u001b[43m(\u001b[49m\u001b[43mindex\u001b[49m\u001b[43m)\u001b[49m\n\u001b[0;32m   3878\u001b[0m     \u001b[38;5;28;01mreturn\u001b[39;00m series\u001b[38;5;241m.\u001b[39m_values[row]\n\u001b[0;32m   3880\u001b[0m \u001b[38;5;66;03m# For MultiIndex going through engine effectively restricts us to\u001b[39;00m\n\u001b[0;32m   3881\u001b[0m \u001b[38;5;66;03m#  same-length tuples; see test_get_set_value_no_partial_indexing\u001b[39;00m\n",
      "File \u001b[1;32m~\\anaconda3\\lib\\site-packages\\pandas\\core\\indexes\\base.py:3655\u001b[0m, in \u001b[0;36mIndex.get_loc\u001b[1;34m(self, key)\u001b[0m\n\u001b[0;32m   3653\u001b[0m     \u001b[38;5;28;01mreturn\u001b[39;00m \u001b[38;5;28mself\u001b[39m\u001b[38;5;241m.\u001b[39m_engine\u001b[38;5;241m.\u001b[39mget_loc(casted_key)\n\u001b[0;32m   3654\u001b[0m \u001b[38;5;28;01mexcept\u001b[39;00m \u001b[38;5;167;01mKeyError\u001b[39;00m \u001b[38;5;28;01mas\u001b[39;00m err:\n\u001b[1;32m-> 3655\u001b[0m     \u001b[38;5;28;01mraise\u001b[39;00m \u001b[38;5;167;01mKeyError\u001b[39;00m(key) \u001b[38;5;28;01mfrom\u001b[39;00m \u001b[38;5;21;01merr\u001b[39;00m\n\u001b[0;32m   3656\u001b[0m \u001b[38;5;28;01mexcept\u001b[39;00m \u001b[38;5;167;01mTypeError\u001b[39;00m:\n\u001b[0;32m   3657\u001b[0m     \u001b[38;5;66;03m# If we have a listlike key, _check_indexing_error will raise\u001b[39;00m\n\u001b[0;32m   3658\u001b[0m     \u001b[38;5;66;03m#  InvalidIndexError. Otherwise we fall through and re-raise\u001b[39;00m\n\u001b[0;32m   3659\u001b[0m     \u001b[38;5;66;03m#  the TypeError.\u001b[39;00m\n\u001b[0;32m   3660\u001b[0m     \u001b[38;5;28mself\u001b[39m\u001b[38;5;241m.\u001b[39m_check_indexing_error(key)\n",
      "\u001b[1;31mKeyError\u001b[0m: 324010360"
     ]
    }
   ],
   "source": [
    "text = filas_mas_relevantes.loc[324010360, \"text\"] \n",
    "print(text)"
   ]
  },
  {
   "cell_type": "code",
   "execution_count": null,
   "id": "ab651a8c-83fa-49b1-bdbf-7e56d52f677e",
   "metadata": {},
   "outputs": [],
   "source": []
  }
 ],
 "metadata": {
  "kernelspec": {
   "display_name": "Python 3 (ipykernel)",
   "language": "python",
   "name": "python3"
  },
  "language_info": {
   "codemirror_mode": {
    "name": "ipython",
    "version": 3
   },
   "file_extension": ".py",
   "mimetype": "text/x-python",
   "name": "python",
   "nbconvert_exporter": "python",
   "pygments_lexer": "ipython3",
   "version": "3.9.12"
  }
 },
 "nbformat": 4,
 "nbformat_minor": 5
}
