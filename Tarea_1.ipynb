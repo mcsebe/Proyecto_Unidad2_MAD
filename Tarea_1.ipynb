{
 "cells": [
  {
   "cell_type": "code",
   "execution_count": 1,
   "id": "c3439b2c",
   "metadata": {},
   "outputs": [],
   "source": [
    "# Primero decir que porcentaje de noticias que continen las palabras ... son de Valdivia y la distribución de esas noticias en Chile\n",
    "# Centrarse en Valdivia\n",
    "# Análisis temporal y de polaridad de las noticias de estudiantes en Valdivia\n",
    "\n",
    "#¿Cuales son los temas más recurrentes 2023?\n",
    "#¿Cuales son las egiones?\n",
    "#¿Existen patrones geográficos?\n",
    "#Análisis temporal: a lo lago de los años\n",
    "#¿Como varía la polaridad de las noticias en las diferentes regiones?"
   ]
  },
  {
   "cell_type": "markdown",
   "id": "3fa3085f-aef1-46f0-a294-15370943afe8",
   "metadata": {},
   "source": [
    "Tarea: \n",
    "\n",
    "1) Elegir palabras claves para construir un dataset sobre cierta(s) temática(s)\n",
    "\n",
    "2) Construir indicadores estadísticos para describir el dataset obtenido\n",
    "   - Cantidad de noticias\n",
    "   - Distribución en el tiempo\n",
    "   - Polaridad (connotación positiva, negativa o neutra) de las noticias\n",
    "   - Organizaciones y personas más mencionadas\n",
    "  \n",
    "3) Proponer un método para clasificar las noticias según:\n",
    "   - su(s) region(es)\n",
    "   - su(s) comuna(s)\n",
    "\n",
    "4) A partir de una muestra, evaluar el porcentaje de exactitud de su método. ¿Cuáles son las limitaciones de su método?\n",
    "\n",
    "5) Mostrar la distribución de las noticias según su comuna y región "
   ]
  },
  {
   "cell_type": "markdown",
   "id": "a2f8554c",
   "metadata": {},
   "source": [
    "# 1- Temática\n",
    "\n",
    "La temática escogida son las noticias de educación del medio \"La tercera\". Las palabras claves para realizar el analisis serán: *\"educativa\", \"educar\", \"escolar\", \"escuela\", \"escuelas\", \"alumno\", \"alumnos\", \"colegio\", \"colegios\", \"universidad\", \"universidades\", \"pedagogía\", \"educacción\", \"Universidad\", \"universitario\", \"universitarios\", \"profesor\" y \"profesores\"*. Estas se buscarán en las 5 primeras frases de cada noticia. \n"
   ]
  },
  {
   "cell_type": "markdown",
   "id": "d2ce317f",
   "metadata": {},
   "source": [
    "# 2- Indicadores estadísticos\n",
    "## Cantidad de noticias"
   ]
  },
  {
   "cell_type": "code",
   "execution_count": 2,
   "id": "f9d32b62-c68a-429e-b572-01729f85849f",
   "metadata": {},
   "outputs": [
    {
     "name": "stdout",
     "output_type": "stream",
     "text": [
      "28236\n",
      "24926\n",
      "26989\n",
      "80151\n"
     ]
    }
   ],
   "source": [
    "import pandas as pd\n",
    "df_2020 = pd.read_csv('./Datos/dataset_2020_latercera.csv')\n",
    "#df_2021 = pd.read_csv('./Datos/dataset_2021_latercera.csv')\n",
    "df_2022 = pd.read_csv('./Datos/dataset_2022_latercera.csv')\n",
    "df_2023 = pd.read_csv('./Datos/dataset_chile_latercera_2023.csv')\n",
    "\n",
    "\n",
    "# Unir los DataFrames en uno solo\n",
    "#df_total = pd.concat([df_2020, df_2021, df_2022, df_2023])\n",
    "df_total = pd.concat([df_2020, df_2022, df_2023])\n",
    "\n",
    "# Convertir la columna 'date' al tipo datetime\n",
    "df_total['date'] = pd.to_datetime(df_total['date'], format='%b %d, %Y @ %H:%M:%S.%f')\n",
    "\n",
    "# Formatear la columna 'date' al formato YYYY-MM-DD\n",
    "df_total['date'] = df_total['date'].dt.strftime('%Y-%m-%d')\n",
    "\n",
    "\n",
    "print(df_2020.shape[0])\n",
    "#print(df_2021.shape[0])\n",
    "print(df_2022.shape[0])\n",
    "print(df_2023.shape[0])\n",
    "print(df_total.shape[0])"
   ]
  },
  {
   "cell_type": "markdown",
   "id": "6fd45056",
   "metadata": {},
   "source": [
    "**El total de noticias indexadas en el medio de \"la tercera\" son 80151.**"
   ]
  },
  {
   "cell_type": "code",
   "execution_count": 3,
   "id": "004853eb-a0d7-4b93-95d1-b51ee5363bdb",
   "metadata": {},
   "outputs": [
    {
     "data": {
      "text/html": [
       "<div>\n",
       "<style scoped>\n",
       "    .dataframe tbody tr th:only-of-type {\n",
       "        vertical-align: middle;\n",
       "    }\n",
       "\n",
       "    .dataframe tbody tr th {\n",
       "        vertical-align: top;\n",
       "    }\n",
       "\n",
       "    .dataframe thead th {\n",
       "        text-align: right;\n",
       "    }\n",
       "</style>\n",
       "<table border=\"1\" class=\"dataframe\">\n",
       "  <thead>\n",
       "    <tr style=\"text-align: right;\">\n",
       "      <th></th>\n",
       "      <th>date</th>\n",
       "      <th>country</th>\n",
       "      <th>media_outlet</th>\n",
       "      <th>title</th>\n",
       "      <th>text</th>\n",
       "      <th>url</th>\n",
       "      <th>relevancia</th>\n",
       "    </tr>\n",
       "  </thead>\n",
       "  <tbody>\n",
       "    <tr>\n",
       "      <th>17309</th>\n",
       "      <td>2020-08-20</td>\n",
       "      <td>chile</td>\n",
       "      <td>latercera</td>\n",
       "      <td>Más de 40 colegios en Alemania registran casos...</td>\n",
       "      <td>Al menos 41 colegios en Alemania han registran...</td>\n",
       "      <td>https://www.latercera.com/mundo/noticia/mas-de...</td>\n",
       "      <td>10</td>\n",
       "    </tr>\n",
       "    <tr>\n",
       "      <th>2084</th>\n",
       "      <td>2020-01-24</td>\n",
       "      <td>chile</td>\n",
       "      <td>latercera</td>\n",
       "      <td>Estudiantes realizarán encuentro para proponer...</td>\n",
       "      <td>A horas de que se rinda la segunda PSU, que al...</td>\n",
       "      <td>https://www.latercera.com/nacional/noticia/est...</td>\n",
       "      <td>9</td>\n",
       "    </tr>\n",
       "    <tr>\n",
       "      <th>22091</th>\n",
       "      <td>2023-10-29</td>\n",
       "      <td>chile</td>\n",
       "      <td>latercera</td>\n",
       "      <td>Presidente del Colegio de Profesores de Atacam...</td>\n",
       "      <td>La delicada situación educativa que está vivie...</td>\n",
       "      <td>https://www.latercera.com/nacional/noticia/pre...</td>\n",
       "      <td>9</td>\n",
       "    </tr>\n",
       "    <tr>\n",
       "      <th>1020</th>\n",
       "      <td>2023-01-15</td>\n",
       "      <td>chile</td>\n",
       "      <td>latercera</td>\n",
       "      <td>Tiemblan las tareas y ensayos: universidades p...</td>\n",
       "      <td>Con el paso de los años, las técnicas para cop...</td>\n",
       "      <td>https://www.latercera.com/tendencias/noticia/t...</td>\n",
       "      <td>9</td>\n",
       "    </tr>\n",
       "    <tr>\n",
       "      <th>10237</th>\n",
       "      <td>2020-05-24</td>\n",
       "      <td>chile</td>\n",
       "      <td>latercera</td>\n",
       "      <td>Universidades: El debate abierto sobre la fórm...</td>\n",
       "      <td>El confinamiento, con efecto dominó en el mund...</td>\n",
       "      <td>https://www.latercera.com/mundo/noticia/univer...</td>\n",
       "      <td>8</td>\n",
       "    </tr>\n",
       "    <tr>\n",
       "      <th>...</th>\n",
       "      <td>...</td>\n",
       "      <td>...</td>\n",
       "      <td>...</td>\n",
       "      <td>...</td>\n",
       "      <td>...</td>\n",
       "      <td>...</td>\n",
       "      <td>...</td>\n",
       "    </tr>\n",
       "    <tr>\n",
       "      <th>5633</th>\n",
       "      <td>2022-03-28</td>\n",
       "      <td>chile</td>\n",
       "      <td>latercera</td>\n",
       "      <td>Fiscalía abre investigación por video con amen...</td>\n",
       "      <td>La Fiscalía de Valdivia abrió una investigació...</td>\n",
       "      <td>https://www.latercera.com/nacional/noticia/fis...</td>\n",
       "      <td>1</td>\n",
       "    </tr>\n",
       "    <tr>\n",
       "      <th>5639</th>\n",
       "      <td>2022-03-28</td>\n",
       "      <td>chile</td>\n",
       "      <td>latercera</td>\n",
       "      <td>Por denuncias de acoso en barrio universitario...</td>\n",
       "      <td>En las últimas semanas y en medio del regreso ...</td>\n",
       "      <td>https://www.latercera.com/nacional/noticia/por...</td>\n",
       "      <td>1</td>\n",
       "    </tr>\n",
       "    <tr>\n",
       "      <th>5650</th>\n",
       "      <td>2022-03-28</td>\n",
       "      <td>chile</td>\n",
       "      <td>latercera</td>\n",
       "      <td>Vuelven los maratones y las corridas: Cómo pre...</td>\n",
       "      <td>A pesar de la pandemia que aún enfrentamos, un...</td>\n",
       "      <td>https://www.latercera.com/que-pasa/noticia/vue...</td>\n",
       "      <td>1</td>\n",
       "    </tr>\n",
       "    <tr>\n",
       "      <th>5651</th>\n",
       "      <td>2022-03-28</td>\n",
       "      <td>chile</td>\n",
       "      <td>latercera</td>\n",
       "      <td>Zona entre Portillo y Valle Nevado son las que...</td>\n",
       "      <td>La nieve de la cordillera de Los Andes es un v...</td>\n",
       "      <td>https://www.latercera.com/que-pasa/noticia/zon...</td>\n",
       "      <td>1</td>\n",
       "    </tr>\n",
       "    <tr>\n",
       "      <th>26926</th>\n",
       "      <td>2023-12-30</td>\n",
       "      <td>chile</td>\n",
       "      <td>latercera</td>\n",
       "      <td>Árbol cae sobre la primera locomotora de Chile...</td>\n",
       "      <td>En medio de los fuertes vientos y las tormenta...</td>\n",
       "      <td>https://www.latercera.com/nacional/noticia/arb...</td>\n",
       "      <td>1</td>\n",
       "    </tr>\n",
       "  </tbody>\n",
       "</table>\n",
       "<p>5767 rows × 7 columns</p>\n",
       "</div>"
      ],
      "text/plain": [
       "             date country media_outlet  \\\n",
       "17309  2020-08-20   chile    latercera   \n",
       "2084   2020-01-24   chile    latercera   \n",
       "22091  2023-10-29   chile    latercera   \n",
       "1020   2023-01-15   chile    latercera   \n",
       "10237  2020-05-24   chile    latercera   \n",
       "...           ...     ...          ...   \n",
       "5633   2022-03-28   chile    latercera   \n",
       "5639   2022-03-28   chile    latercera   \n",
       "5650   2022-03-28   chile    latercera   \n",
       "5651   2022-03-28   chile    latercera   \n",
       "26926  2023-12-30   chile    latercera   \n",
       "\n",
       "                                                   title  \\\n",
       "17309  Más de 40 colegios en Alemania registran casos...   \n",
       "2084   Estudiantes realizarán encuentro para proponer...   \n",
       "22091  Presidente del Colegio de Profesores de Atacam...   \n",
       "1020   Tiemblan las tareas y ensayos: universidades p...   \n",
       "10237  Universidades: El debate abierto sobre la fórm...   \n",
       "...                                                  ...   \n",
       "5633   Fiscalía abre investigación por video con amen...   \n",
       "5639   Por denuncias de acoso en barrio universitario...   \n",
       "5650   Vuelven los maratones y las corridas: Cómo pre...   \n",
       "5651   Zona entre Portillo y Valle Nevado son las que...   \n",
       "26926  Árbol cae sobre la primera locomotora de Chile...   \n",
       "\n",
       "                                                    text  \\\n",
       "17309  Al menos 41 colegios en Alemania han registran...   \n",
       "2084   A horas de que se rinda la segunda PSU, que al...   \n",
       "22091  La delicada situación educativa que está vivie...   \n",
       "1020   Con el paso de los años, las técnicas para cop...   \n",
       "10237  El confinamiento, con efecto dominó en el mund...   \n",
       "...                                                  ...   \n",
       "5633   La Fiscalía de Valdivia abrió una investigació...   \n",
       "5639   En las últimas semanas y en medio del regreso ...   \n",
       "5650   A pesar de la pandemia que aún enfrentamos, un...   \n",
       "5651   La nieve de la cordillera de Los Andes es un v...   \n",
       "26926  En medio de los fuertes vientos y las tormenta...   \n",
       "\n",
       "                                                     url  relevancia  \n",
       "17309  https://www.latercera.com/mundo/noticia/mas-de...          10  \n",
       "2084   https://www.latercera.com/nacional/noticia/est...           9  \n",
       "22091  https://www.latercera.com/nacional/noticia/pre...           9  \n",
       "1020   https://www.latercera.com/tendencias/noticia/t...           9  \n",
       "10237  https://www.latercera.com/mundo/noticia/univer...           8  \n",
       "...                                                  ...         ...  \n",
       "5633   https://www.latercera.com/nacional/noticia/fis...           1  \n",
       "5639   https://www.latercera.com/nacional/noticia/por...           1  \n",
       "5650   https://www.latercera.com/que-pasa/noticia/vue...           1  \n",
       "5651   https://www.latercera.com/que-pasa/noticia/zon...           1  \n",
       "26926  https://www.latercera.com/nacional/noticia/arb...           1  \n",
       "\n",
       "[5767 rows x 7 columns]"
      ]
     },
     "execution_count": 3,
     "metadata": {},
     "output_type": "execute_result"
    }
   ],
   "source": [
    "palabras_clave = [\"educativa\", \"educar\", \"escolar\", \"escuela\", \"escuelas\", \"alumno\", \"alumnos\", \"colegio\", \"colegios\", \"universidad\", \"universidades\", \"pedagogía\", \"educacción\", \"Universidad\", \"universitario\", \"universitarios\", \"profesor\", \"profesores\"]\n",
    "\n",
    "# Función para calcular la relevancia de una fila basada en las palabras clave\n",
    "def calcular_relevancia(texto):\n",
    "    frases = texto.split('.')[:5]\n",
    "    text=\"\"\n",
    "    for frase in frases:\n",
    "        text=text+frase+\".\"\n",
    "    relevancia = sum(1 for palabra in palabras_clave if palabra in text)\n",
    "    return relevancia\n",
    "\n",
    "# Aplicar la función calcular_relevancia a cada fila y guardar el resultado en una nueva columna \"relevancia\"\n",
    "df_total[\"relevancia\"] = df_total[\"text\"].apply(calcular_relevancia)\n",
    "df_filtrado = df_total[df_total[\"relevancia\"] > 0].copy()\n",
    "\n",
    "# Luego, ordena el DataFrame filtrado por la columna \"relevancia\"\n",
    "df_ordenado = df_filtrado.sort_values(by=\"relevancia\", ascending=False)\n",
    "df_ordenado"
   ]
  },
  {
   "cell_type": "markdown",
   "id": "9743602b",
   "metadata": {},
   "source": [
    "**Las noticias resultantes del filtrado son 5767 de un total de 80151, lo que corresponde a un 7.2% de las noticias totales**"
   ]
  },
  {
   "cell_type": "markdown",
   "id": "b3c90efe",
   "metadata": {},
   "source": [
    "## Distribución en el tiempo"
   ]
  },
  {
   "cell_type": "markdown",
   "id": "d41ddd48",
   "metadata": {},
   "source": [
    "### Distribución en el tiempos(Total Noticias):"
   ]
  },
  {
   "cell_type": "code",
   "execution_count": 4,
   "id": "c2fe0668",
   "metadata": {},
   "outputs": [
    {
     "data": {
      "image/png": "[encoded data removed]",
      "text/plain": [
       "<Figure size 720x432 with 1 Axes>"
      ]
     },
     "metadata": {
      "needs_background": "light"
     },
     "output_type": "display_data"
    }
   ],
   "source": [
    "import matplotlib.pyplot as plt\n",
    "df_total['date'] = pd.to_datetime(df_total['date'])\n",
    "\n",
    "# Crear una nueva columna para el mes y el año\n",
    "df_total['month_year'] = df_total['date'].dt.to_period('M')\n",
    "\n",
    "# Contar la cantidad de datos por mes\n",
    "month_counts = df_total['month_year'].value_counts().sort_index()\n",
    "#Crear el histograma\n",
    "plt.figure(figsize=(10, 6))\n",
    "month_counts.plot(kind='bar')\n",
    "plt.xlabel('Mes')\n",
    "plt.ylabel('Cantidad de datos')\n",
    "plt.title('Cantidad de datos por mes [TOTAL NOTICIAS]')\n",
    "plt.xticks(rotation=45, fontsize=10)  # Ajustar el tamaño de las etiquetas del eje x\n",
    "plt.tight_layout()  # Ajustar el layout para que las etiquetas no se corten\n",
    "plt.show()"
   ]
  },
  {
   "cell_type": "code",
   "execution_count": 5,
   "id": "de11d305",
   "metadata": {},
   "outputs": [
    {
     "data": {
      "text/plain": [
       "count      36.000000\n",
       "mean     2226.416667\n",
       "std       246.536277\n",
       "min      1690.000000\n",
       "25%      2061.000000\n",
       "50%      2240.500000\n",
       "75%      2402.250000\n",
       "max      2708.000000\n",
       "Name: count, dtype: float64"
      ]
     },
     "execution_count": 5,
     "metadata": {},
     "output_type": "execute_result"
    }
   ],
   "source": [
    "month_counts.describe()"
   ]
  },
  {
   "cell_type": "markdown",
   "id": "8776e895",
   "metadata": {},
   "source": [
    "### Distribución tiempo (Noticias Educación)"
   ]
  },
  {
   "cell_type": "code",
   "execution_count": 6,
   "id": "167d8220",
   "metadata": {},
   "outputs": [
    {
     "data": {
      "image/png": "[encoded data removed]",
      "text/plain": [
       "<Figure size 720x432 with 1 Axes>"
      ]
     },
     "metadata": {
      "needs_background": "light"
     },
     "output_type": "display_data"
    }
   ],
   "source": [
    "df_filtrado['date'] = pd.to_datetime(df_filtrado['date'])\n",
    "\n",
    "# Crear una nueva columna para el mes y el año\n",
    "df_filtrado['month_year'] = df_filtrado['date'].dt.to_period('M')\n",
    "\n",
    "# Contar la cantidad de datos por mes\n",
    "month_counts = df_filtrado['month_year'].value_counts().sort_index()\n",
    "\n",
    "#Crear el histograma\n",
    "plt.figure(figsize=(10, 6))\n",
    "month_counts.plot(kind='bar')\n",
    "plt.xlabel('Mes')\n",
    "plt.ylabel('Cantidad de datos')\n",
    "plt.title('Cantidad de datos por mes [TOTAL NOTICIAS]')\n",
    "plt.xticks(rotation=45, fontsize=10)  # Ajustar el tamaño de las etiquetas del eje x\n",
    "plt.tight_layout()  # Ajustar el layout para que las etiquetas no se corten\n",
    "plt.show()"
   ]
  },
  {
   "cell_type": "code",
   "execution_count": 7,
   "id": "60e0648a",
   "metadata": {},
   "outputs": [
    {
     "data": {
      "text/plain": [
       "count     36.000000\n",
       "mean     160.194444\n",
       "std       39.290726\n",
       "min       94.000000\n",
       "25%      129.250000\n",
       "50%      152.000000\n",
       "75%      186.250000\n",
       "max      249.000000\n",
       "Name: count, dtype: float64"
      ]
     },
     "execution_count": 7,
     "metadata": {},
     "output_type": "execute_result"
    }
   ],
   "source": [
    "month_counts.describe()"
   ]
  },
  {
   "cell_type": "markdown",
   "id": "c2ba43b7",
   "metadata": {},
   "source": [
    "## POLARIDAD"
   ]
  },
  {
   "cell_type": "code",
   "execution_count": 8,
   "id": "099349f3",
   "metadata": {},
   "outputs": [
    {
     "name": "stderr",
     "output_type": "stream",
     "text": [
      "Special tokens have been added in the vocabulary, make sure the associated word embeddings are fine-tuned or trained.\n"
     ]
    }
   ],
   "source": [
    "from transformers import AutoTokenizer, AutoModelForSequenceClassification\n",
    "from transformers import pipeline\n",
    "from tqdm import tqdm\n",
    "\n",
    "model_name = \"finiteautomata/beto-sentiment-analysis\"\n",
    "model = AutoModelForSequenceClassification.from_pretrained(model_name)\n",
    "tokenizer = AutoTokenizer.from_pretrained(model_name)\n",
    "\n",
    "sentiment_pipeline = pipeline(\"sentiment-analysis\", model=model, tokenizer=tokenizer)"
   ]
  },
  {
   "cell_type": "code",
   "execution_count": 9,
   "id": "4660b387",
   "metadata": {},
   "outputs": [
    {
     "name": "stderr",
     "output_type": "stream",
     "text": [
      "Análisis de sentimiento: 100%|█████████████████████████████████████████████████████| 5767/5767 [06:09<00:00, 15.62it/s]\n"
     ]
    }
   ],
   "source": [
    "for index, row in tqdm(df_filtrado.iterrows(), desc='Análisis de sentimiento', total=df_filtrado.shape[0]):\n",
    "    \n",
    "    sentiment_value = sentiment_pipeline(row['title'])\n",
    "    \n",
    "    # Insertamos en dataframe\n",
    "    df_filtrado.at[index, \"prediction\"] = sentiment_value[0].get('label')\n",
    "    df_filtrado.at[index, \"score\"] = sentiment_value[0].get('score')"
   ]
  },
  {
   "cell_type": "code",
   "execution_count": 10,
   "id": "24b51e01",
   "metadata": {},
   "outputs": [
    {
     "data": {
      "text/plain": [
       "prediction\n",
       "NEU    3248\n",
       "NEG    2079\n",
       "POS     440\n",
       "Name: count, dtype: int64"
      ]
     },
     "execution_count": 10,
     "metadata": {},
     "output_type": "execute_result"
    }
   ],
   "source": [
    "df_filtrado['prediction'].value_counts()"
   ]
  },
  {
   "cell_type": "code",
   "execution_count": 11,
   "id": "fa8e54e5",
   "metadata": {},
   "outputs": [
    {
     "data": {
      "image/png": "[encoded data removed]",
      "text/plain": [
       "<Figure size 864x576 with 1 Axes>"
      ]
     },
     "metadata": {
      "needs_background": "light"
     },
     "output_type": "display_data"
    }
   ],
   "source": [
    "# Agrupar los datos por mes y valor de 'prediction' y contar las ocurrencias\n",
    "grouped = df_filtrado.groupby(['month_year', 'prediction']).size().unstack(fill_value=0)\n",
    "\n",
    "# Crear el histograma\n",
    "plt.figure(figsize=(12, 8))\n",
    "\n",
    "# Crear el gráfico de barras apiladas\n",
    "grouped.plot(kind='bar', stacked=True, ax=plt.gca(), color={'POS': '#70D453', 'NEG': '#EB5A5A', 'NEU': '#536DD4'})\n",
    "\n",
    "plt.xlabel('Mes')\n",
    "plt.ylabel('Cantidad de datos')\n",
    "plt.title('Cantidad de datos por mes y predicción [TOTAL NOTICIAS]')\n",
    "plt.xticks(rotation=45, fontsize=10)  # Ajustar el tamaño de las etiquetas del eje x\n",
    "plt.legend(title='Prediction')\n",
    "plt.tight_layout()  # Ajustar el layout para que las etiquetas no se corten\n",
    "\n",
    "plt.show()\n"
   ]
  },
  {
   "cell_type": "code",
   "execution_count": 12,
   "id": "b484b9d2",
   "metadata": {},
   "outputs": [],
   "source": [
    "grouped['%NEG'] = grouped['NEG']/(grouped['NEG']+grouped['NEU']+grouped['POS']) * 100\n",
    "grouped['%POS'] = grouped['POS']/(grouped['NEG']+grouped['NEU']+grouped['POS']) * 100\n",
    "grouped['%NEU'] = grouped['NEU']/(grouped['NEG']+grouped['NEU']+grouped['POS']) * 100"
   ]
  },
  {
   "cell_type": "code",
   "execution_count": 13,
   "id": "6c839898",
   "metadata": {},
   "outputs": [
    {
     "data": {
      "image/png": "[encoded data removed]",
      "text/plain": [
       "<Figure size 864x576 with 1 Axes>"
      ]
     },
     "metadata": {
      "needs_background": "light"
     },
     "output_type": "display_data"
    }
   ],
   "source": [
    "plt.figure(figsize=(12, 8))\n",
    "\n",
    "grouped['%NEG'].plot(kind='line', marker='o', linestyle='-', color='#EB5A5A', label='%NEG')\n",
    "grouped['%POS'].plot(kind='line', marker='o', linestyle='-', color='#70D453', label='%POS')\n",
    "grouped['%NEU'].plot(kind='line', marker='o', linestyle='-', color='#536DD4', label='%NEU')\n",
    "\n",
    "plt.xlabel('Mes')\n",
    "plt.ylabel('Porcentaje')\n",
    "plt.title('Porcentaje de NEG y POS por mes')\n",
    "plt.xticks(rotation=45, fontsize=10)  # Ajustar el tamaño de las etiquetas del eje x\n",
    "plt.legend(title='Predicción')\n",
    "plt.tight_layout()  # Ajustar el layout para que las etiquetas no se corten\n",
    "\n",
    "plt.show()"
   ]
  },
  {
   "cell_type": "code",
   "execution_count": 14,
   "id": "4c441157",
   "metadata": {},
   "outputs": [
    {
     "data": {
      "text/html": [
       "<div>\n",
       "<style scoped>\n",
       "    .dataframe tbody tr th:only-of-type {\n",
       "        vertical-align: middle;\n",
       "    }\n",
       "\n",
       "    .dataframe tbody tr th {\n",
       "        vertical-align: top;\n",
       "    }\n",
       "\n",
       "    .dataframe thead th {\n",
       "        text-align: right;\n",
       "    }\n",
       "</style>\n",
       "<table border=\"1\" class=\"dataframe\">\n",
       "  <thead>\n",
       "    <tr style=\"text-align: right;\">\n",
       "      <th>prediction</th>\n",
       "      <th>NEG</th>\n",
       "      <th>NEU</th>\n",
       "      <th>POS</th>\n",
       "      <th>%NEG</th>\n",
       "      <th>%POS</th>\n",
       "      <th>%NEU</th>\n",
       "    </tr>\n",
       "  </thead>\n",
       "  <tbody>\n",
       "    <tr>\n",
       "      <th>count</th>\n",
       "      <td>36.000000</td>\n",
       "      <td>36.000000</td>\n",
       "      <td>36.000000</td>\n",
       "      <td>36.000000</td>\n",
       "      <td>36.000000</td>\n",
       "      <td>36.000000</td>\n",
       "    </tr>\n",
       "    <tr>\n",
       "      <th>mean</th>\n",
       "      <td>57.750000</td>\n",
       "      <td>90.222222</td>\n",
       "      <td>12.222222</td>\n",
       "      <td>36.084531</td>\n",
       "      <td>7.621595</td>\n",
       "      <td>56.293874</td>\n",
       "    </tr>\n",
       "    <tr>\n",
       "      <th>std</th>\n",
       "      <td>16.241701</td>\n",
       "      <td>24.378106</td>\n",
       "      <td>5.183000</td>\n",
       "      <td>5.029290</td>\n",
       "      <td>2.661400</td>\n",
       "      <td>5.237630</td>\n",
       "    </tr>\n",
       "    <tr>\n",
       "      <th>min</th>\n",
       "      <td>31.000000</td>\n",
       "      <td>53.000000</td>\n",
       "      <td>3.000000</td>\n",
       "      <td>25.203252</td>\n",
       "      <td>2.811245</td>\n",
       "      <td>46.236559</td>\n",
       "    </tr>\n",
       "    <tr>\n",
       "      <th>25%</th>\n",
       "      <td>45.500000</td>\n",
       "      <td>73.500000</td>\n",
       "      <td>8.750000</td>\n",
       "      <td>31.991122</td>\n",
       "      <td>5.818742</td>\n",
       "      <td>53.078028</td>\n",
       "    </tr>\n",
       "    <tr>\n",
       "      <th>50%</th>\n",
       "      <td>54.500000</td>\n",
       "      <td>86.000000</td>\n",
       "      <td>12.000000</td>\n",
       "      <td>36.224490</td>\n",
       "      <td>7.142857</td>\n",
       "      <td>56.212485</td>\n",
       "    </tr>\n",
       "    <tr>\n",
       "      <th>75%</th>\n",
       "      <td>67.750000</td>\n",
       "      <td>103.000000</td>\n",
       "      <td>15.000000</td>\n",
       "      <td>39.887218</td>\n",
       "      <td>9.342432</td>\n",
       "      <td>59.600206</td>\n",
       "    </tr>\n",
       "    <tr>\n",
       "      <th>max</th>\n",
       "      <td>96.000000</td>\n",
       "      <td>162.000000</td>\n",
       "      <td>25.000000</td>\n",
       "      <td>46.774194</td>\n",
       "      <td>13.392857</td>\n",
       "      <td>65.789474</td>\n",
       "    </tr>\n",
       "  </tbody>\n",
       "</table>\n",
       "</div>"
      ],
      "text/plain": [
       "prediction        NEG         NEU        POS       %NEG       %POS       %NEU\n",
       "count       36.000000   36.000000  36.000000  36.000000  36.000000  36.000000\n",
       "mean        57.750000   90.222222  12.222222  36.084531   7.621595  56.293874\n",
       "std         16.241701   24.378106   5.183000   5.029290   2.661400   5.237630\n",
       "min         31.000000   53.000000   3.000000  25.203252   2.811245  46.236559\n",
       "25%         45.500000   73.500000   8.750000  31.991122   5.818742  53.078028\n",
       "50%         54.500000   86.000000  12.000000  36.224490   7.142857  56.212485\n",
       "75%         67.750000  103.000000  15.000000  39.887218   9.342432  59.600206\n",
       "max         96.000000  162.000000  25.000000  46.774194  13.392857  65.789474"
      ]
     },
     "execution_count": 14,
     "metadata": {},
     "output_type": "execute_result"
    }
   ],
   "source": [
    "grouped.describe()"
   ]
  },
  {
   "cell_type": "markdown",
   "id": "90f96d42",
   "metadata": {},
   "source": [
    "### Organizaciones y personas más mencionadas"
   ]
  },
  {
   "cell_type": "code",
   "execution_count": 15,
   "id": "22369942",
   "metadata": {},
   "outputs": [],
   "source": [
    "import spacy\n",
    "\n",
    "# Cargar el modelo de Spacy para el idioma que necesites (por ejemplo, español)\n",
    "nlp = spacy.load(\"es_core_news_sm\")\n",
    "\n",
    "# Función para extraer entidades de tipo persona de un texto usando Spacy\n",
    "def extract_person_entities(text):\n",
    "    doc = nlp(text)\n",
    "    return [ent.text for ent in doc.ents if ent.label_ == \"PER\" and len(ent.text.split()) >= 2]\n",
    "\n",
    "def extract_org_entities(text):\n",
    "    doc = nlp(text)\n",
    "    return [ent.text for ent in doc.ents if ent.label_ == \"ORG\" and len(ent.text.split()) >= 2]\n",
    "\n",
    "# Aplicar la función a cada fila de la columna \"text\" y guardar los resultados en una nueva columna\n",
    "df_filtrado[\"person_entities\"] = df_filtrado[\"text\"].apply(extract_person_entities)\n",
    "df_filtrado[\"org_entities\"] = df_filtrado[\"text\"].apply(extract_org_entities)"
   ]
  },
  {
   "cell_type": "code",
   "execution_count": 16,
   "id": "f3319f7e",
   "metadata": {},
   "outputs": [
    {
     "data": {
      "text/plain": [
       "Gabriel Boric          549\n",
       "Marco Antonio Ávila    280\n",
       "Sebastián Piñera       186\n",
       "Raúl Figueroa          143\n",
       "Michelle Bachelet      142\n",
       "Donald Trump           133\n",
       "Camila Vallejo         104\n",
       "Qué Pasa                95\n",
       "Joe Biden               92\n",
       "Carlos Díaz             83\n",
       "Presidente Boric        79\n",
       "Enrique Paris           75\n",
       "Raúl Cordero            72\n",
       "Ignacio Sánchez         70\n",
       "Izkia Siches            70\n",
       "Jaime Mañalich          67\n",
       "Mario Aguilar           65\n",
       "Rosa Devés              64\n",
       "Ennio Vivaldi           63\n",
       "Alejandra Arratia       59\n",
       "Name: count, dtype: int64"
      ]
     },
     "execution_count": 16,
     "metadata": {},
     "output_type": "execute_result"
    }
   ],
   "source": [
    "# Convertir la lista de personas en una sola lista para contar las ocurrencias de cada persona\n",
    "all_persons = [person for sublist in df_filtrado[\"person_entities\"] for person in sublist]\n",
    "# Contar las ocurrencias de cada persona\n",
    "person_counts = pd.Series(all_persons).value_counts()\n",
    "# Mostrar las personas más mencionadas\n",
    "person_counts.head(20)"
   ]
  },
  {
   "cell_type": "code",
   "execution_count": 17,
   "id": "94b2f18d",
   "metadata": {},
   "outputs": [
    {
     "data": {
      "text/plain": [
       "Universidad de Chile                1266\n",
       "Universidad Católica                 356\n",
       "Colegio de Profesores                299\n",
       "Región Metropolitana                 279\n",
       "Frente Amplio                        166\n",
       "Organización Mundial de la Salud     151\n",
       "Convención Constitucional            122\n",
       "Partido Republicano                  120\n",
       "Instituto Nacional                   119\n",
       "Universidad de Oxford                118\n",
       "Universidad de Concepción            111\n",
       "La Tercera PM                        107\n",
       "Universidad Johns Hopkins            102\n",
       "Universidad de Harvard               102\n",
       "Partido Comunista                    100\n",
       "Universidad de Valparaíso             95\n",
       "Consejo de Rectores                   93\n",
       "Universidad Diego Portales            88\n",
       "Consejo Constitucional                85\n",
       "Estación Central                      84\n",
       "Name: count, dtype: int64"
      ]
     },
     "execution_count": 17,
     "metadata": {},
     "output_type": "execute_result"
    }
   ],
   "source": [
    "# Convertir la lista de personas en una sola lista para contar las ocurrencias de cada persona\n",
    "all_orgs = [org for sublist in df_filtrado[\"org_entities\"] for org in sublist]\n",
    "# Contar las ocurrencias de cada persona\n",
    "orgs_counts = pd.Series(all_orgs).value_counts()\n",
    "# Mostrar las personas más mencionadas\n",
    "orgs_counts.head(20)"
   ]
  },
  {
   "cell_type": "markdown",
   "id": "0e59a2df",
   "metadata": {},
   "source": [
    "# 3- Método para clasificar las noticias\n",
    "\n",
    "## Según su comuna"
   ]
  },
  {
   "cell_type": "code",
   "execution_count": 18,
   "id": "850e5565",
   "metadata": {},
   "outputs": [
    {
     "name": "stderr",
     "output_type": "stream",
     "text": [
      "Special tokens have been added in the vocabulary, make sure the associated word embeddings are fine-tuned or trained.\n"
     ]
    }
   ],
   "source": [
    "from transformers import pipeline\n",
    "import re\n",
    "\n",
    "qa_model = pipeline(\"question-answering\", \"timpal0l/mdeberta-v3-base-squad2\")\n",
    "\n",
    "def obtener_comuna(text):\n",
    "    question = \"En qué comuna o ciudad ocurre el evento?\"\n",
    "    return re.sub(r'[\\d\\W_]+', ' ',qa_model(question = question, context = text)['answer'])"
   ]
  },
  {
   "cell_type": "code",
   "execution_count": null,
   "id": "f218b35b",
   "metadata": {},
   "outputs": [],
   "source": [
    "df_filtrado['Comuna'] = df_filtrado['text'].apply(obtener_comuna)"
   ]
  },
  {
   "cell_type": "code",
   "execution_count": null,
   "id": "3dba336f",
   "metadata": {},
   "outputs": [],
   "source": [
    "df_filtrado['Comuna']"
   ]
  },
  {
   "cell_type": "markdown",
   "id": "8fb8009b",
   "metadata": {},
   "source": [
    "## Según su región"
   ]
  },
  {
   "cell_type": "code",
   "execution_count": null,
   "id": "f4b04bdb",
   "metadata": {},
   "outputs": [],
   "source": [
    "import json\n",
    "\n",
    "with open('cities.json', 'r', encoding='utf-8') as file:\n",
    "    regiones = json.load(file)\n",
    "\n",
    "def encontrar_region_por_comuna(text):\n",
    "    for region in regiones:\n",
    "        for comuna in region['communes']:\n",
    "            if comuna['name'].lower() == text.lower():\n",
    "                return region['name']\n",
    "    print(text)\n",
    "    return \"NO\""
   ]
  },
  {
   "cell_type": "code",
   "execution_count": null,
   "id": "2db62899",
   "metadata": {},
   "outputs": [],
   "source": [
    "df_filtrado['Region'] = df_filtrado['Comuna'].apply(obtener_comuna)\n",
    "df_filtrado['Region']"
   ]
  },
  {
   "cell_type": "markdown",
   "id": "3cf8280a",
   "metadata": {},
   "source": [
    "# 4- Porcentaje de exactitud del método"
   ]
  },
  {
   "cell_type": "code",
   "execution_count": null,
   "id": "74f14670",
   "metadata": {},
   "outputs": [],
   "source": []
  },
  {
   "cell_type": "markdown",
   "id": "df7c7384",
   "metadata": {},
   "source": [
    "## ¿Cuáles son las limitaciones de su método?"
   ]
  },
  {
   "cell_type": "code",
   "execution_count": null,
   "id": "833b6d20",
   "metadata": {},
   "outputs": [],
   "source": []
  },
  {
   "cell_type": "markdown",
   "id": "da7083a3",
   "metadata": {},
   "source": [
    "# Distribución de las noticias según su comuna y región "
   ]
  },
  {
   "cell_type": "code",
   "execution_count": null,
   "id": "7cf25efc",
   "metadata": {},
   "outputs": [],
   "source": []
  },
  {
   "cell_type": "markdown",
   "id": "037a1dc1-0568-471e-9972-8610a1e07812",
   "metadata": {},
   "source": [
    "geopandas: https://geopandas.org/en/stable/\n",
    "\n",
    "Kepler: https://kepler.gl/\n"
   ]
  },
  {
   "cell_type": "code",
   "execution_count": null,
   "id": "fee9a01c-d35f-4f48-a0ad-9d392eefb120",
   "metadata": {},
   "outputs": [],
   "source": [
    "import geopandas as gpd"
   ]
  },
  {
   "cell_type": "code",
   "execution_count": null,
   "id": "0edd43e3-e145-4134-99f8-73927c73f319",
   "metadata": {},
   "outputs": [],
   "source": [
    "SHAPEFILE=r'./shape/comunas.shp' #shapefile de las regiones y comunas de Chile\n",
    "# fuente: https://www.bcn.cl/siit/mapas_vectoriales"
   ]
  },
  {
   "cell_type": "code",
   "execution_count": null,
   "id": "44efb87a-5fd9-47bd-9f9e-07dea37d85aa",
   "metadata": {},
   "outputs": [],
   "source": [
    "import geopandas as gpd\n",
    "import matplotlib.pyplot as plt\n",
    "\n",
    "# Cargar los datos geoespaciales de las regiones de Chile\n",
    "chile_regions = gpd.read_file(SHAPEFILE, encoding='utf-8')"
   ]
  },
  {
   "cell_type": "code",
   "execution_count": null,
   "id": "df08697c-ed41-4058-bed0-7e3b0094d45c",
   "metadata": {},
   "outputs": [],
   "source": [
    "chile_regions"
   ]
  },
  {
   "cell_type": "code",
   "execution_count": null,
   "id": "6edebbf8-4011-4579-8fb6-e575189cc306",
   "metadata": {},
   "outputs": [],
   "source": [
    "import numpy as np\n",
    "\n",
    "# Generar valores aleatorios entre 1 y 10\n",
    "random_values = np.random.randint(1, 11, size=len(chile_regions))\n",
    "\n",
    "# Añadir la columna \"value\" al DataFrame con los valores aleatorios\n",
    "chile_regions['value'] = random_values"
   ]
  },
  {
   "cell_type": "code",
   "execution_count": null,
   "id": "29c4a368-986e-4ff9-bad9-0ac436e2cfa7",
   "metadata": {},
   "outputs": [],
   "source": [
    "# Crear una figura y ejes\n",
    "fig, ax = plt.subplots(figsize=(10, 10))\n",
    "# Reemplaza 'variable' con el nombre de la columna de tu DataFrame que contiene la variable a visualizar\n",
    "# Reemplaza 'cmap' con el mapa de colores que desees usar\n",
    "# Reemplaza 'legend' con True si deseas mostrar la leyenda\n",
    "# Dibujar el mapa de Chile\n",
    "chile_regions.plot(ax=ax, color='lightgrey', edgecolor='black')\n",
    "\n",
    "# Colorear las regiones según una variable específica\n",
    "# Reemplaza 'variable' con el nombre de la columna de tu DataFrame que contiene la variable a visualizar\n",
    "# Reemplaza 'cmap' con el mapa de colores que desees usar\n",
    "# Reemplaza 'legend' con True si deseas mostrar la leyenda\n",
    "# Reemplaza 'vmin' y 'vmax' con los valores mínimo y máximo de tu variable para normalizar los colores\n",
    "\n",
    "#chile_regions.plot(ax=ax, column='variable', cmap='coolwarm', legend=True, vmin=0, vmax=100)\n",
    "\n",
    "chile_regions.plot(ax=ax, column=\"value\", cmap='coolwarm', legend=True, vmin=1, vmax=10)\n",
    "\n",
    "# Añadir título y etiquetas de los ejes\n",
    "plt.title('Mapa de Chile')\n",
    "plt.xlabel('Longitud')\n",
    "plt.ylabel('Latitud')\n",
    "\n",
    "# Mostrar el mapa\n",
    "plt.show()"
   ]
  },
  {
   "cell_type": "code",
   "execution_count": null,
   "id": "16c08103-9188-4905-88e2-71982852cacd",
   "metadata": {},
   "outputs": [],
   "source": []
  },
  {
   "cell_type": "code",
   "execution_count": null,
   "id": "e8fca363-facd-4f27-917a-c2af6ff41747",
   "metadata": {},
   "outputs": [],
   "source": []
  }
 ],
 "metadata": {
  "kernelspec": {
   "display_name": "Python 3 (ipykernel)",
   "language": "python",
   "name": "python3"
  },
  "language_info": {
   "codemirror_mode": {
    "name": "ipython",
    "version": 3
   },
   "file_extension": ".py",
   "mimetype": "text/x-python",
   "name": "python",
   "nbconvert_exporter": "python",
   "pygments_lexer": "ipython3",
   "version": "3.9.12"
  }
 },
 "nbformat": 4,
 "nbformat_minor": 5
}
